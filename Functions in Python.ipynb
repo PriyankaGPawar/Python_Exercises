{
 "cells": [
  {
   "cell_type": "markdown",
   "metadata": {},
   "source": [
    "### Functions in python"
   ]
  },
  {
   "cell_type": "code",
   "execution_count": 4,
   "metadata": {},
   "outputs": [
    {
     "name": "stdout",
     "output_type": "stream",
     "text": [
      "Function output : Hello Priya, Welcome to Australia\n"
     ]
    }
   ],
   "source": [
    "def hello_world (name):\n",
    "    '''\n",
    "    this will print hello world\n",
    "    '''\n",
    "    print(\"Function output : Hello\",name)\n",
    "\n",
    "hello_world('Priya, Welcome to Australia')"
   ]
  },
  {
   "cell_type": "code",
   "execution_count": 5,
   "metadata": {},
   "outputs": [
    {
     "name": "stdout",
     "output_type": "stream",
     "text": [
      "\n",
      "    this will print hello world\n",
      "    \n"
     ]
    }
   ],
   "source": [
    "print(hello_world.__doc__)      # Doc string of the function"
   ]
  },
  {
   "cell_type": "code",
   "execution_count": 6,
   "metadata": {},
   "outputs": [
    {
     "data": {
      "text/plain": [
       "['Scientist']"
      ]
     },
     "execution_count": 6,
     "metadata": {},
     "output_type": "execute_result"
    }
   ],
   "source": [
    "str1 ='Scientist'\n",
    "str1.split(',')"
   ]
  },
  {
   "cell_type": "code",
   "execution_count": 17,
   "metadata": {},
   "outputs": [
    {
     "name": "stdout",
     "output_type": "stream",
     "text": [
      "Enter the number to calculate the factorial :3\n",
      "The factorial of a number is : 6\n"
     ]
    }
   ],
   "source": [
    "# Factorial of a number\n",
    "\n",
    "def facto(num):\n",
    "    x=1\n",
    "    facto=1\n",
    "    while x <= num:\n",
    "        facto *=x\n",
    "        x +=1\n",
    "    return facto         # function ends here\n",
    "\n",
    "\n",
    "print(\"The factorial of a number is :\",facto(int(input(\"Enter the number to calculate the factorial :\"))))\n",
    "\n",
    "    "
   ]
  }
 ],
 "metadata": {
  "kernelspec": {
   "display_name": "Python 3",
   "language": "python",
   "name": "python3"
  },
  "language_info": {
   "codemirror_mode": {
    "name": "ipython",
    "version": 3
   },
   "file_extension": ".py",
   "mimetype": "text/x-python",
   "name": "python",
   "nbconvert_exporter": "python",
   "pygments_lexer": "ipython3",
   "version": "3.7.3"
  }
 },
 "nbformat": 4,
 "nbformat_minor": 2
}
