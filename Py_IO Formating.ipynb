{
 "cells": [
  {
   "cell_type": "markdown",
   "metadata": {},
   "source": [
    "### Python Input/Output and formatting\n",
    "-- Use Input and Output functions\n",
    "-- Input function takes everything as sting, no matter what you input in the method. So as a programmer, we have to typecast\n",
    "   this input. "
   ]
  },
  {
   "cell_type": "code",
   "execution_count": 4,
   "metadata": {},
   "outputs": [
    {
     "name": "stdout",
     "output_type": "stream",
     "text": [
      "Enter the number of students: 27\n",
      "Type of classStrength :  <class 'int'>\n"
     ]
    }
   ],
   "source": [
    "classStrength =int ( input(\"Enter the number of students: \"))\n",
    "print(\"Type of classStrength : \", type(classStrength))"
   ]
  },
  {
   "cell_type": "markdown",
   "metadata": {},
   "source": [
    "### Python Output"
   ]
  },
  {
   "cell_type": "code",
   "execution_count": 19,
   "metadata": {},
   "outputs": [
    {
     "name": "stdout",
     "output_type": "stream",
     "text": [
      "(1, 'five', 3, 4, 'tuple values', 10.5) {1, 'tuple values', 3, 4, 10.5, 'five'}\n",
      "Dictionary:  {10: 'abc', 20: 'pqr', 30: 'mnp', 40: 'xyz'}\n",
      "var1 is of type: <class 'tuple'>\n",
      "var2 is of type: <class 'set'>\n",
      "var3 is of type: <class 'list'>\n",
      "var4 is of type: <class 'dict'>\n"
     ]
    }
   ],
   "source": [
    "var1= (1,'five',3,4,'tuple values',10.5)\n",
    "var2= {1,'five',3,4,'tuple values',10.5}\n",
    "var3= [1,'five',3,4,'tuple values',10.5]\n",
    "var4= {10:'abc',20:'pqr',30:'mnp',40:'xyz'}\n",
    "\n",
    "print(var1,var2)\n",
    "print('Dictionary: ',var4)\n",
    "print('var1 is of type:',type(var1))\n",
    "print('var2 is of type:',type(var2))\n",
    "print('var3 is of type:',type(var3))\n",
    "print('var4 is of type:',type(var4))\n"
   ]
  },
  {
   "cell_type": "markdown",
   "metadata": {},
   "source": [
    "### Dictionary and associated operations"
   ]
  },
  {
   "cell_type": "code",
   "execution_count": 10,
   "metadata": {},
   "outputs": [
    {
     "name": "stdout",
     "output_type": "stream",
     "text": [
      "{1: 20, 2: 30, 3: 40, 4: 50, 5: 60}\n",
      "type of Dict1 : <class 'dict'>\n",
      "value for key 2 from Dictionary is :  30\n",
      "enter the value for Key 5: 75\n",
      "The new dictionary is : {1: 20, 2: 30, 3: 40, 4: 50, 5: '75'}\n"
     ]
    }
   ],
   "source": [
    "Dict1 = {1:20,2:30, 3:40, 4:50, 5:60 }\n",
    "print (Dict1)\n",
    "print('type of Dict1 :', type(Dict1))\n",
    "print('value for key 2 from Dictionary is : ',Dict1 [2])\n",
    "Dict1[5] = input('enter the value for Key 5: ')\n",
    "print('The new dictionary is :',Dict1)\n"
   ]
  },
  {
   "cell_type": "markdown",
   "metadata": {},
   "source": [
    "### Output formatting\n",
    "    We use str.format() method to format the output.\n",
    "    This method is visible to any string object"
   ]
  },
  {
   "cell_type": "code",
   "execution_count": 24,
   "metadata": {},
   "outputs": [
    {
     "name": "stdout",
     "output_type": "stream",
     "text": [
      "Int1 : 40 is half of Int2 : 80\n",
      "Int2 : 80 is double of Int1 : 40\n",
      "Welcome Priyanka to the world of Data Science\n",
      "Welcome Priyanka to the lecture on subject Python\n"
     ]
    }
   ],
   "source": [
    "int1= 40\n",
    "int2= 80\n",
    "print(\"Int1 : {} is half of Int2 : {}\".format(int1,int2))\n",
    "\n",
    "print(\"Int2 : {1} is double of Int1 : {0}\".format(int1,int2))  # by providing the index inside brackets, index starts with 0\n",
    "print(\"Welcome {name} to the world of {ds}\".format(name='Priyanka',ds='Data Science')) #by defining vars inside format\n",
    "\n",
    "print(\"Welcome {1} to the lecture on subject {0}\".format('Python','Priyanka'))\n"
   ]
  },
  {
   "cell_type": "markdown",
   "metadata": {},
   "source": [
    "### Float formatting"
   ]
  },
  {
   "cell_type": "code",
   "execution_count": 27,
   "metadata": {},
   "outputs": [
    {
     "name": "stdout",
     "output_type": "stream",
     "text": [
      "19.700000\n",
      "the value of float with sign : +19.700000\n"
     ]
    }
   ],
   "source": [
    "var1 = 19.7\n",
    "print('{:f}'.format(var1))\n",
    "print('the value of float with sign : {:+f}'.format(var1))"
   ]
  },
  {
   "cell_type": "markdown",
   "metadata": {},
   "source": [
    "### String Formatting"
   ]
  },
  {
   "cell_type": "code",
   "execution_count": 13,
   "metadata": {},
   "outputs": [
    {
     "data": {
      "text/plain": [
       "'**********I am learning python**********'"
      ]
     },
     "execution_count": 13,
     "metadata": {},
     "output_type": "execute_result"
    }
   ],
   "source": [
    "'{:*^30}'.format('centered')\n",
    "'{:^40}'.format(\"I am learning abc\")\n",
    "'{:*^40}'.format(\"I am learning python\")  # use * as a fill character\n"
   ]
  },
  {
   "cell_type": "code",
   "execution_count": 20,
   "metadata": {},
   "outputs": [
    {
     "name": "stdout",
     "output_type": "stream",
     "text": [
      "This is left alligned-------------------\n"
     ]
    },
    {
     "data": {
      "text/plain": [
       "'This is left alligned==================='"
      ]
     },
     "execution_count": 20,
     "metadata": {},
     "output_type": "execute_result"
    }
   ],
   "source": [
    "print('{:-<40}'.format('This is left alligned'))   # left alligned with '-' as fill character\n",
    "'{:=<40}'.format('This is left alligned')   # left alligned with '=' as fill character"
   ]
  },
  {
   "cell_type": "code",
   "execution_count": 25,
   "metadata": {},
   "outputs": [
    {
     "name": "stdout",
     "output_type": "stream",
     "text": [
      ".............This is right alligned\n"
     ]
    },
    {
     "data": {
      "text/plain": [
       "'---This is right alligned with fill character'"
      ]
     },
     "execution_count": 25,
     "metadata": {},
     "output_type": "execute_result"
    }
   ],
   "source": [
    "print('{:.>35}'.format(\"This is right alligned\"))\n",
    "'{:->45}'.format(\"This is right alligned with fill character\")"
   ]
  },
  {
   "cell_type": "code",
   "execution_count": 28,
   "metadata": {},
   "outputs": [
    {
     "name": "stdout",
     "output_type": "stream",
     "text": [
      "      This is centred without fill character      \n"
     ]
    }
   ],
   "source": [
    "print('{:^50}'.format(\"This is centred without fill character\"))"
   ]
  },
  {
   "cell_type": "code",
   "execution_count": 43,
   "metadata": {},
   "outputs": [
    {
     "name": "stdout",
     "output_type": "stream",
     "text": [
      "d\n",
      "    5 X\n",
      "    5 o\n",
      "    5 b\n",
      "  101 \n",
      "d\n",
      "    6 X\n",
      "    6 o\n",
      "    6 b\n",
      "  110 \n",
      "d\n",
      "    7 X\n",
      "    7 o\n",
      "    7 b\n",
      "  111 \n"
     ]
    }
   ],
   "source": [
    " width = 5\n",
    ">>> for num in range(5,8): \n",
    "        for base in 'dXob':\n",
    "            print(base)\n",
    "            print('{0:{width}{base}}'.format(num, base=base, width=width), end=' ')\n",
    "        print()"
   ]
  }
 ],
 "metadata": {
  "kernelspec": {
   "display_name": "Python 3",
   "language": "python",
   "name": "python3"
  },
  "language_info": {
   "codemirror_mode": {
    "name": "ipython",
    "version": 3
   },
   "file_extension": ".py",
   "mimetype": "text/x-python",
   "name": "python",
   "nbconvert_exporter": "python",
   "pygments_lexer": "ipython3",
   "version": "3.7.3"
  }
 },
 "nbformat": 4,
 "nbformat_minor": 2
}
