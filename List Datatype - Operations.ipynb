{
 "cells": [
  {
   "cell_type": "markdown",
   "metadata": {},
   "source": [
    "### different types of lists"
   ]
  },
  {
   "cell_type": "code",
   "execution_count": null,
   "metadata": {},
   "outputs": [],
   "source": [
    "list1 = [1,2,3,4]\n",
    "list2 = [1,'f',4,'g','h',3+4J ]\n",
    "list3 = [[3,5],[6,7],[8,9]]\n",
    "print (list1)\n",
    "print(list2)\n",
    "print(list3)\n"
   ]
  },
  {
   "cell_type": "markdown",
   "metadata": {},
   "source": [
    "### append - will add the element at the end of the list"
   ]
  },
  {
   "cell_type": "code",
   "execution_count": null,
   "metadata": {},
   "outputs": [],
   "source": [
    "list2 = [1,'f',4,'g','h',3+4J ]\n",
    "\n",
    "list2.append('bill')       #append will add the elements at the end of the list\n",
    "print(list2)"
   ]
  },
  {
   "cell_type": "markdown",
   "metadata": {},
   "source": [
    "### insert element into list at desired position"
   ]
  },
  {
   "cell_type": "code",
   "execution_count": 3,
   "metadata": {},
   "outputs": [
    {
     "name": "stdout",
     "output_type": "stream",
     "text": [
      "[1, 'f', 4, 'fourth', 'g', 'h', (3+4j)]\n"
     ]
    }
   ],
   "source": [
    "list2 = [1,'f',4,'g','h',3+4J ]\n",
    "list2.insert(3,'fourth')\n",
    "print(list2)\n",
    "\n",
    "#  print(list2.insert(3,'fourth'))   -- This prints none. Because the return type of the insert/list function is none so it\n",
    "                                    #   prints none \n"
   ]
  },
  {
   "cell_type": "markdown",
   "metadata": {},
   "source": [
    "### remove element"
   ]
  },
  {
   "cell_type": "code",
   "execution_count": null,
   "metadata": {},
   "outputs": [],
   "source": [
    "list1 =[1,4,6,7,3,8,7]\n",
    "list1.remove(7)        #  removes the first occurrence of that element from list\n",
    "# list1.remove(2)        #  if the element is not in the list then it throws error\n",
    "print(list1)"
   ]
  },
  {
   "cell_type": "markdown",
   "metadata": {},
   "source": [
    "### Append vs Extend  -\n",
    "    append will just attach that list to the existing list\n",
    "    Extend will remove the braces of the list and make it as a part of the parent list"
   ]
  },
  {
   "cell_type": "code",
   "execution_count": null,
   "metadata": {},
   "outputs": [],
   "source": [
    "list1 = [1, 'f', 4, 'g', 'h', (3+4j)]\n",
    "list2 = ['b','d','f','h']\n",
    "\n",
    "list1.append(list2)\n",
    "print (list1, \"\\nLength of list is :\",len(list1))\n",
    "list1.extend(list2)\n",
    "print (list1, \"\\nLength of list is :\",len(list1))"
   ]
  },
  {
   "cell_type": "markdown",
   "metadata": {},
   "source": [
    "### Delete , POP, remove"
   ]
  },
  {
   "cell_type": "code",
   "execution_count": null,
   "metadata": {},
   "outputs": [],
   "source": [
    "list1 = [1, 'f', 4, 'g', 'h', (3+4j),7,9,10]\n",
    "\n",
    "del list1[1]   # deletes element at the first index position i.e. 'f'\n",
    "print(list1)\n",
    "\n",
    "del list1[2:4]  # deletes 2nd and 3rd element. Index 4 is non inclusive.\n",
    "print(list1)\n",
    "\n",
    "list1.remove(4)  #removes the actual values that you have to pass as argument\n",
    "print(list1)\n",
    "\n",
    "items=list1.pop()   #removes the last element when no index is mentioned\n",
    "print(items ,\" List :\" ,list1)\n",
    "\n",
    "items=list1.pop(2)   #removes the indexed element\n",
    "print(items ,\" List :\" ,list1)"
   ]
  },
  {
   "cell_type": "markdown",
   "metadata": {},
   "source": [
    "### Reverse a list"
   ]
  },
  {
   "cell_type": "code",
   "execution_count": null,
   "metadata": {},
   "outputs": [],
   "source": [
    "myList= [10,27,85,73,14,19,65]\n",
    "\n",
    "myList.reverse()  # this will reverse the list\n",
    "print(myList)"
   ]
  },
  {
   "cell_type": "markdown",
   "metadata": {},
   "source": [
    "### Sort a list in ascending and descending order, use sorted() function\n",
    "    Only integers can be sorted, this function does not work on mixed data type list.\n",
    "\n",
    "### Sorted() function keeps the orginal list remains unchanged\n",
    "### Sort() function changes the orginal list"
   ]
  },
  {
   "cell_type": "code",
   "execution_count": 2,
   "metadata": {},
   "outputs": [
    {
     "name": "stdout",
     "output_type": "stream",
     "text": [
      "original list : [10, 27, 85, 73, 14, 19, 65]\n",
      "Sorted List : [10, 14, 19, 27, 65, 73, 85]\n",
      "Descending Sorted List : [85, 73, 65, 27, 19, 14, 10]\n",
      "List with sort() function : [10, 14, 19, 27, 65, 73, 85]\n"
     ]
    }
   ],
   "source": [
    "myList= [10,27,85,73,14,19,65]\n",
    "\n",
    "sorted_list1= sorted(myList)          # Sort the list in ASCENDING ORDER , store in the new list variable.\n",
    "print(\"original list :\",myList)\n",
    "print(\"Sorted List :\",sorted_list1)\n",
    "\n",
    "sorted_list2 = sorted(myList,reverse=True)   # This will sort list in DESCENDING ORDER\n",
    "print(\"Descending Sorted List :\",sorted_list2)\n",
    "\n",
    "myList.sort()\n",
    "print(\"List with sort() function :\",myList)\n",
    "\n"
   ]
  },
  {
   "cell_type": "code",
   "execution_count": null,
   "metadata": {},
   "outputs": [],
   "source": [
    "## strings\n",
    "\n",
    "StrList = ['banana','apple','Apple','Oranges']\n",
    "print(sorted(StrList, reverse=True))\n",
    "StrList.sort()\n",
    "print(StrList)"
   ]
  },
  {
   "cell_type": "markdown",
   "metadata": {},
   "source": [
    "### split the list"
   ]
  },
  {
   "cell_type": "code",
   "execution_count": null,
   "metadata": {},
   "outputs": [],
   "source": [
    "Str1= \"'banana','apple','mango','Oranges'\"\n",
    "\n",
    "s1= Str1.split(',')\n",
    "print(s1)\n"
   ]
  },
  {
   "cell_type": "markdown",
   "metadata": {},
   "source": [
    "### list comprehension - simpleway of creating lists"
   ]
  },
  {
   "cell_type": "code",
   "execution_count": null,
   "metadata": {},
   "outputs": [],
   "source": [
    "myList=[]\n",
    "for i in range(4):\n",
    "    myList.append(i**2)\n",
    "print(myList)\n",
    "\n",
    "\n",
    "## Comprehension way ---\n",
    "\n",
    "myList= [i**2 for i in range(6)]\n",
    "print(myList)"
   ]
  },
  {
   "cell_type": "markdown",
   "metadata": {},
   "source": [
    "### Exercise "
   ]
  },
  {
   "cell_type": "code",
   "execution_count": 19,
   "metadata": {},
   "outputs": [
    {
     "name": "stdout",
     "output_type": "stream",
     "text": [
      "[1, 4, 9, 16, 25, 36, 64] <class 'list'>\n",
      "[(1, 1), (2, 2), (3, 3), (4, 4), (5, 5), (6, 6), (8, 8)] <class 'list'>\n",
      "[1, 4, 9, 16, 25, 36, 64]\n",
      "[[0.5, 1.0, 1.5], [2.0, 2.5, 3.0], [3.5, 4.0, 4.5]]\n"
     ]
    }
   ],
   "source": [
    "myList =[1,2,3,4,5,6,8]\n",
    "\n",
    "newList = [i**2 for i in myList]\n",
    "print(newList, type(newList))\n",
    "\n",
    "myList = [(i,i) for i in myList]\n",
    "print(myList, type(myList))\n",
    "\n",
    "newlist= [i*3 for i in myList if i != 0]\n",
    "print(newList)\n",
    "    \n",
    "newList3=[]\n",
    "[newList3.append([(i+j)/2 for j in range(3)]) for i in range(1,10,3)]\n",
    "print(newList3)"
   ]
  },
  {
   "cell_type": "code",
   "execution_count": 26,
   "metadata": {},
   "outputs": [
    {
     "name": "stdout",
     "output_type": "stream",
     "text": [
      "[1, 4, 9, 16, 25, 36, 49, 64]\n",
      "[1, 4, 9, 16, 25, 36, 49, 64]\n",
      "[<generator object <listcomp>.<genexpr> at 0x00000000051B4228>, <generator object <listcomp>.<genexpr> at 0x0000000007DD6750>, <generator object <listcomp>.<genexpr> at 0x0000000007DD67C8>]\n"
     ]
    }
   ],
   "source": [
    "mylist=[1,2,3,4,5,6,7,8]\n",
    "\n",
    "myList1=[]\n",
    "for i in mylist:\n",
    "    myList1.append(i**2)\n",
    "print(myList1)\n",
    "\n",
    "# through comprehension\n",
    "\n",
    "myList2 = [i**2 for i in mylist]\n",
    "print(myList2)\n"
   ]
  },
  {
   "cell_type": "code",
   "execution_count": 30,
   "metadata": {},
   "outputs": [
    {
     "name": "stdout",
     "output_type": "stream",
     "text": [
      "[[1, 4, 7], [1, 4, 7], [1, 4, 7]]\n",
      "[[0.5, 1.0, 1.5], [2.0, 2.5, 3.0], [3.5, 4.0, 4.5]]\n"
     ]
    }
   ],
   "source": [
    "myMatrix1= []\n",
    "[myMatrix1.append([j for j in range(1,10,3)]) for i in range(3)]\n",
    "print(myMatrix1)\n",
    "          \n",
    "myMatrix2=[]\n",
    "[myMatrix2.append([(j+i)/2 for j in range(3)]) for i in range(1,10,3)]\n",
    "print(myMatrix2)"
   ]
  },
  {
   "cell_type": "code",
   "execution_count": 39,
   "metadata": {},
   "outputs": [
    {
     "name": "stdout",
     "output_type": "stream",
     "text": [
      "['I', 'n', 's', 'a', 'i', 'd', ',', 'c', 'l', 'a', 's', 's', 'e', 's']\n",
      "['I', 'n', 's', 'a', 'i', 'd', ',', 'c', 'l', 'a', 's', 's', 'e', 's']\n",
      "None\n"
     ]
    }
   ],
   "source": [
    "# string reverse\n",
    "\n",
    "str1 = 'Insaid,classes'\n",
    "list1= list(str1)\n",
    "print(list1)\n",
    "\n",
    "str1.split(',')\n",
    "\n",
    "list2=[]\n",
    "for i in str1:\n",
    "    list2.append(i)\n",
    "print(list2)\n",
    "\n",
    "list3=list1.reverse()\n",
    "print(list3)\n"
   ]
  },
  {
   "cell_type": "markdown",
   "metadata": {},
   "source": [
    "### list comprehensions and function calls"
   ]
  },
  {
   "cell_type": "code",
   "execution_count": null,
   "metadata": {},
   "outputs": [],
   "source": [
    "def mybool(num):\n",
    "    if num %3 ==0:\n",
    "        return True\n",
    "    elif num %7 ==0:\n",
    "        return True\n",
    "    else:\n",
    "        return False\n",
    "\n",
    "### cubes of num ivisible by 3\n",
    "i=0\n",
    "#list1= [i**3 for i in range(50) mybool(i)]\n",
    "#print(list1)\n",
    "\n",
    "for i in range(15):\n",
    "    if mybool(i) == True:\n",
    "        print(\"value of i : {} and its cube : {}\".format(i, i**3))      \n",
    "    elif mybool(i) == False:\n",
    "        continue"
   ]
  }
 ],
 "metadata": {
  "kernelspec": {
   "display_name": "Python 3",
   "language": "python",
   "name": "python3"
  },
  "language_info": {
   "codemirror_mode": {
    "name": "ipython",
    "version": 3
   },
   "file_extension": ".py",
   "mimetype": "text/x-python",
   "name": "python",
   "nbconvert_exporter": "python",
   "pygments_lexer": "ipython3",
   "version": "3.7.3"
  }
 },
 "nbformat": 4,
 "nbformat_minor": 2
}
