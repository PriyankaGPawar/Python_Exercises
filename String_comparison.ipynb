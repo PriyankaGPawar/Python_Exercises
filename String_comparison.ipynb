{
  "nbformat": 4,
  "nbformat_minor": 0,
  "metadata": {
    "colab": {
      "name": "String comparison.ipynb",
      "provenance": [],
      "collapsed_sections": [],
      "authorship_tag": "ABX9TyPYmS2whxjGWniz3lJNoNUi",
      "include_colab_link": true
    },
    "kernelspec": {
      "name": "python3",
      "display_name": "Python 3"
    }
  },
  "cells": [
    {
      "cell_type": "markdown",
      "metadata": {
        "id": "view-in-github",
        "colab_type": "text"
      },
      "source": [
        "<a href=\"https://colab.research.google.com/github/PriyankaGPawar/Python_Exercises/blob/master/String_comparison.ipynb\" target=\"_parent\"><img src=\"https://colab.research.google.com/assets/colab-badge.svg\" alt=\"Open In Colab\"/></a>"
      ]
    },
    {
      "cell_type": "code",
      "metadata": {
        "id": "PSB9xZz4uJXp",
        "colab_type": "code",
        "colab": {
          "base_uri": "https://localhost:8080/",
          "height": 68
        },
        "outputId": "5b95dae2-7729-41f5-d45c-f23402f649a3"
      },
      "source": [
        "fruit1 = input(\"enter first fruit: \")\n",
        "fruit2 = input (\"enter second fruit: \")\n",
        "\n",
        "print(type(fruit1))"
      ],
      "execution_count": 2,
      "outputs": [
        {
          "output_type": "stream",
          "text": [
            "enter first fruit: apple\n",
            "enter second fruit: orange\n",
            "<class 'str'>\n"
          ],
          "name": "stdout"
        }
      ]
    },
    {
      "cell_type": "code",
      "metadata": {
        "id": "r75zD-eBuhsD",
        "colab_type": "code",
        "colab": {
          "base_uri": "https://localhost:8080/",
          "height": 34
        },
        "outputId": "2a212c10-b0a6-4b23-c37d-71a9aaf442ad"
      },
      "source": [
        "str1= 'apple'\n",
        "str2 ='orange'\n",
        "\n",
        "if str1 > str2:\n",
        "  print(\"{} comes before {} in dictionary\".format(str2,str1))\n",
        "elif str1 < str2:\n",
        " print(\"{} comes before {} in dictionary\".format(str1,str2))\n",
        "else :\n",
        "  print(\"both fruits are same\")"
      ],
      "execution_count": 9,
      "outputs": [
        {
          "output_type": "stream",
          "text": [
            "apple comes before orange in dictionary\n"
          ],
          "name": "stdout"
        }
      ]
    },
    {
      "cell_type": "code",
      "metadata": {
        "id": "ebzEobuAwBRS",
        "colab_type": "code",
        "colab": {
          "base_uri": "https://localhost:8080/",
          "height": 153
        },
        "outputId": "8cc375f7-956f-4002-da49-a4642e75f316"
      },
      "source": [
        "str1 = 'Melbourne'\n",
        "l1= list(str1)\n",
        "print(l1)\n",
        "print(len(l1))\n",
        "\n",
        "list_places = ['Melbourne','Sydney','Perth']\n",
        "city1= 'Sydney'\n",
        "\n",
        "for places in list_places:\n",
        "  if places ==city1:\n",
        "    print('cities are same')\n",
        "  else: print('not the same city')\n",
        "\n",
        "for places in list_places:\n",
        "  print('comparing %s with %s : %s'%(city1,places, places == city1))"
      ],
      "execution_count": 19,
      "outputs": [
        {
          "output_type": "stream",
          "text": [
            "['M', 'e', 'l', 'b', 'o', 'u', 'r', 'n', 'e']\n",
            "9\n",
            "not the same city\n",
            "cities are same\n",
            "not the same city\n",
            "comparing Sydney with Melbourne : False\n",
            "comparing Sydney with Sydney : True\n",
            "comparing Sydney with Perth : False\n"
          ],
          "name": "stdout"
        }
      ]
    },
    {
      "cell_type": "code",
      "metadata": {
        "id": "PvIqDoO-zuHX",
        "colab_type": "code",
        "colab": {
          "base_uri": "https://localhost:8080/",
          "height": 51
        },
        "outputId": "a4d7db87-56c1-4a16-9cf2-00492cf96a0c"
      },
      "source": [
        "s1 = 'apple'\n",
        "s2 = 'oranges'\n",
        "s3 = 'jackfruit'\n",
        "print (\"--Program to compare the strings--\")\n",
        "\n",
        "list1 =(s1,s2,s3)\n",
        "print(list1)"
      ],
      "execution_count": 18,
      "outputs": [
        {
          "output_type": "stream",
          "text": [
            "--Program to compare the strings--\n",
            "('apple', 'oranges', 'jackfruit')\n"
          ],
          "name": "stdout"
        }
      ]
    },
    {
      "cell_type": "code",
      "metadata": {
        "id": "-MP_MujfMc9-",
        "colab_type": "code",
        "colab": {
          "base_uri": "https://localhost:8080/",
          "height": 102
        },
        "outputId": "7b62aa39-b4a1-4295-8297-2fb40e1dff43"
      },
      "source": [
        "import re\n",
        "list_places = [\"Melbourne1\",'Sydney','Perth99',209]\n",
        "\n",
        "pattern = re.compile(\"[b]\")\n",
        "\n",
        "for place in list_places:\n",
        "  print(place)\n",
        "  if pattern.search('place'):\n",
        "    print(\"%s matches the search pattern \" %place)\n",
        "\n",
        "type(list_places[2])"
      ],
      "execution_count": 47,
      "outputs": [
        {
          "output_type": "stream",
          "text": [
            "Melbourne1\n",
            "Sydney\n",
            "Perth99\n",
            "209\n"
          ],
          "name": "stdout"
        },
        {
          "output_type": "execute_result",
          "data": {
            "text/plain": [
              "str"
            ]
          },
          "metadata": {
            "tags": []
          },
          "execution_count": 47
        }
      ]
    },
    {
      "cell_type": "code",
      "metadata": {
        "id": "3NzoFDDqPBU4",
        "colab_type": "code",
        "colab": {
          "base_uri": "https://localhost:8080/",
          "height": 68
        },
        "outputId": "dfcf2386-2e90-496c-c6bd-29f30fe6a471"
      },
      "source": [
        "# import the additional module\n",
        "import re\n",
        "\n",
        "# define list of places\n",
        "listOfPlaces = [\"Bayswater\", \"Table Bay\", \"Bejing\", \"Bombay\"]\n",
        "\n",
        "# define search string\n",
        "pattern = re.compile(\"[Bb]ay\")\n",
        "\n",
        "for place in listOfPlaces:\n",
        "    if pattern.search(place):\n",
        "        print (\"%s matches the search pattern\" % place)"
      ],
      "execution_count": 43,
      "outputs": [
        {
          "output_type": "stream",
          "text": [
            "Bayswater matches the search pattern\n",
            "Table Bay matches the search pattern\n",
            "Bombay matches the search pattern\n"
          ],
          "name": "stdout"
        }
      ]
    }
  ]
}