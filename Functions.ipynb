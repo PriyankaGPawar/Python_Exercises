{
 "cells": [
  {
   "cell_type": "code",
   "execution_count": 1,
   "metadata": {},
   "outputs": [
    {
     "name": "stdout",
     "output_type": "stream",
     "text": [
      "[0, 1, 4, 9, 16, 25, 36, 49, 64, 81]\n"
     ]
    }
   ],
   "source": [
    "list1=[]\n",
    "for i in range(10):\n",
    "    list1.append(i**2)\n",
    "print(list1)\n"
   ]
  },
  {
   "cell_type": "markdown",
   "metadata": {},
   "source": [
    "### two type of functions - absolute functions and user defined functions"
   ]
  },
  {
   "cell_type": "markdown",
   "metadata": {},
   "source": [
    "#### all()  - this returns true if the elements of the object are true \n",
    "    0, None and False        :    are treated as False\n",
    "    1 or any number/string   :    is treated as True"
   ]
  },
  {
   "cell_type": "code",
   "execution_count": 7,
   "metadata": {},
   "outputs": [
    {
     "name": "stdout",
     "output_type": "stream",
     "text": [
      "True\n",
      "False\n"
     ]
    }
   ],
   "source": [
    "tuple1 = (1,2,3,4,'fj')    # no 0 hence true\n",
    "print(all(tuple1))\n",
    "\n",
    "tuple2 = (1,2,3,4,0)     # 0 hence false\n",
    "print(all(tuple2))"
   ]
  },
  {
   "cell_type": "code",
   "execution_count": 11,
   "metadata": {},
   "outputs": [
    {
     "name": "stdout",
     "output_type": "stream",
     "text": [
      "False\n",
      "True\n"
     ]
    }
   ],
   "source": [
    "set1= {1,2,3,0,'roses'}\n",
    "print(all(set1))\n",
    "\n",
    "dict1= {}            # empty dictionary is true\n",
    "print(all(dict1))   "
   ]
  },
  {
   "cell_type": "code",
   "execution_count": 13,
   "metadata": {},
   "outputs": [
    {
     "name": "stdout",
     "output_type": "stream",
     "text": [
      "True\n",
      "False\n"
     ]
    }
   ],
   "source": [
    "list1= []\n",
    "print(all(list1))      # empty list is true\n",
    "\n",
    "list1= [False, 1,'b','a']    # false is false\n",
    "print(all(list1))  "
   ]
  },
  {
   "cell_type": "code",
   "execution_count": 17,
   "metadata": {},
   "outputs": [
    {
     "name": "stdout",
     "output_type": "stream",
     "text": [
      "False\n"
     ]
    }
   ],
   "source": [
    "list1= [None,1,'b','a']    # None is treated false\n",
    "print(all(list1))"
   ]
  },
  {
   "cell_type": "markdown",
   "metadata": {},
   "source": [
    "###  divmod(n, d)     # divmod(dividend , divisor)   Or divmod(numerator, denominator)"
   ]
  },
  {
   "cell_type": "code",
   "execution_count": 19,
   "metadata": {},
   "outputs": [
    {
     "data": {
      "text/plain": [
       "(2, 1)"
      ]
     },
     "execution_count": 19,
     "metadata": {},
     "output_type": "execute_result"
    }
   ],
   "source": [
    "divmod(9,4)     # divmod(dividend , divisor)   Or divmod(numerator, denominator)\n",
    "                # Result of divmod(n,d) is tuple = (quotient, remainder)"
   ]
  },
  {
   "cell_type": "markdown",
   "metadata": {},
   "source": [
    "### dir()  - this will return all the attributes of any object.   all operations that can be performed on this object are printed with dir() function"
   ]
  },
  {
   "cell_type": "code",
   "execution_count": 21,
   "metadata": {},
   "outputs": [
    {
     "name": "stdout",
     "output_type": "stream",
     "text": [
      "['__and__', '__class__', '__contains__', '__delattr__', '__dir__', '__doc__', '__eq__', '__format__', '__ge__', '__getattribute__', '__gt__', '__hash__', '__iand__', '__init__', '__init_subclass__', '__ior__', '__isub__', '__iter__', '__ixor__', '__le__', '__len__', '__lt__', '__ne__', '__new__', '__or__', '__rand__', '__reduce__', '__reduce_ex__', '__repr__', '__ror__', '__rsub__', '__rxor__', '__setattr__', '__sizeof__', '__str__', '__sub__', '__subclasshook__', '__xor__', 'add', 'clear', 'copy', 'difference', 'difference_update', 'discard', 'intersection', 'intersection_update', 'isdisjoint', 'issubset', 'issuperset', 'pop', 'remove', 'symmetric_difference', 'symmetric_difference_update', 'union', 'update']\n"
     ]
    }
   ],
   "source": [
    "set1 = {20,10,30,45}\n",
    "dir(set1)             # execute this or below statement\n",
    "print(dir(set1))"
   ]
  },
  {
   "cell_type": "markdown",
   "metadata": {},
   "source": [
    "### enumerate (iterable sequence, start =0)"
   ]
  },
  {
   "cell_type": "code",
   "execution_count": 36,
   "metadata": {},
   "outputs": [
    {
     "name": "stdout",
     "output_type": "stream",
     "text": [
      "['A', 'u', 's', 't', 'r', 'a', 'l', 'i', 'a']\n",
      "{0: 'A', 1: 'u', 2: 's', 3: 't', 4: 'r', 5: 'a', 6: 'l', 7: 'i', 8: 'a'}\n",
      "[(0, 'A'), (1, 'u'), (2, 's'), (3, 't'), (4, 'r'), (5, 'a'), (6, 'l'), (7, 'i'), (8, 'a')]\n",
      "Iterable list with seq : 10 A\n",
      "Iterable list with seq : 11 u\n",
      "Iterable list with seq : 12 s\n",
      "Iterable list with seq : 13 t\n",
      "Iterable list with seq : 14 r\n",
      "Iterable list with seq : 15 a\n",
      "Iterable list with seq : 16 l\n",
      "Iterable list with seq : 17 i\n",
      "Iterable list with seq : 18 a\n"
     ]
    }
   ],
   "source": [
    "str1 ='Australia'\n",
    "list1=list(str1)\n",
    "print(list1)\n",
    "\n",
    "list2=list((enumerate(list1)))    # enumerate with start =0 and convert to list\n",
    "dict1= dict(list2)                # list can be converted to dictionary using dict() function\n",
    "print(dict1)\n",
    "\n",
    "print(list2)\n",
    "\n",
    "for i, j in enumerate(list1,10):           # enumerate() function for iteration\n",
    "    print(\"Iterable list with seq :\",i,j)"
   ]
  },
  {
   "cell_type": "markdown",
   "metadata": {},
   "source": [
    "### Filter(function , iterable)"
   ]
  },
  {
   "cell_type": "markdown",
   "metadata": {},
   "source": [
    "### isinstance()  -- to check the type of an object  \n",
    "isinstance (object,class_info)"
   ]
  },
  {
   "cell_type": "code",
   "execution_count": 44,
   "metadata": {},
   "outputs": [
    {
     "name": "stdout",
     "output_type": "stream",
     "text": [
      "True\n",
      "False\n"
     ]
    }
   ],
   "source": [
    "set1= {20,30,40,'same','diff'}\n",
    "print(isinstance(set1, set))\n",
    "\n",
    "print(isinstance(set1, tuple))"
   ]
  },
  {
   "cell_type": "markdown",
   "metadata": {},
   "source": [
    "### map() - the map appplied the function to each element in the input list."
   ]
  },
  {
   "cell_type": "code",
   "execution_count": 54,
   "metadata": {},
   "outputs": [
    {
     "name": "stdout",
     "output_type": "stream",
     "text": [
      "[5.0, 12.0, 28.0, 45.0, 10.0]\n"
     ]
    }
   ],
   "source": [
    "\n",
    "# calculate the half of each element in the list\n",
    "\n",
    "list1= [10,24,56,90,20]             # define object\n",
    "\n",
    "def func_half (num):                # define function\n",
    "    return num/2\n",
    "\n",
    "halves = list(map(func_half, list1))  # call map function and pass object to it\n",
    "print(halves)"
   ]
  },
  {
   "cell_type": "markdown",
   "metadata": {},
   "source": [
    "### reduce()  - to perform some function on list and return result\n",
    "#### it applies rolling computation to the sequential list of elements"
   ]
  },
  {
   "cell_type": "code",
   "execution_count": 88,
   "metadata": {},
   "outputs": [
    {
     "name": "stdout",
     "output_type": "stream",
     "text": [
      "15\n",
      "maggy pasta\n"
     ]
    }
   ],
   "source": [
    "from functools import reduce\n",
    "\n",
    "numbers= [1,2,3,4,5]\n",
    "strings= ['maggy',' pasta']\n",
    "\n",
    "def sumOfNumbers(x,y):\n",
    "    return x+y\n",
    "\n",
    "sumOfArray=reduce(sumOfNumbers,numbers)       # reduce(functions , iterable sequence)\n",
    "print(sumOfArray)\n",
    "\n",
    "ConcatStrings=reduce(sumOfNumbers,strings)\n",
    "print(ConcatStrings)\n",
    "\n"
   ]
  },
  {
   "cell_type": "markdown",
   "metadata": {},
   "source": [
    "### UDF - calcu"
   ]
  },
  {
   "cell_type": "code",
   "execution_count": 92,
   "metadata": {},
   "outputs": [
    {
     "name": "stdout",
     "output_type": "stream",
     "text": [
      "Enter num1 :38\n",
      "Enter num2 :56\n",
      "enter calculation to do :/\n",
      "0.6785714285714286\n"
     ]
    }
   ],
   "source": [
    "# calc function \n",
    "\n",
    "def calculate(num1,num2,operator):\n",
    "    if operator== '+' :\n",
    "        return num1+num2\n",
    "    elif operator== '-' :\n",
    "        return num1 - num2\n",
    "    elif operator== '*' :\n",
    "        return num1 * num2\n",
    "    elif operator== '/' :\n",
    "        return num1 / num2\n",
    "\n",
    "num1 = float(input(\"Enter num1 :\"))\n",
    "num2 = float(input(\"Enter num2 :\"))\n",
    "operator = input(\"enter calculation to do :\")\n",
    "\n",
    "result =calculate(num1,num2,operator)\n",
    "print(result)\n",
    "\n",
    "    \n",
    "    "
   ]
  },
  {
   "cell_type": "markdown",
   "metadata": {},
   "source": [
    "### keyword arguments - using **kwargs"
   ]
  },
  {
   "cell_type": "code",
   "execution_count": 105,
   "metadata": {},
   "outputs": [
    {
     "name": "stdout",
     "output_type": "stream",
     "text": [
      "Keywords arguments passed are Hello Melborune\n",
      "Keywords arguments passed are Hello Melborune\n"
     ]
    }
   ],
   "source": [
    "def func(**kwargs):\n",
    "    for i in kwargs:\n",
    "        print(\"Keywords arguments passed are {} {}\".format(kwargs['msg'],kwargs['name']))\n",
    "\n",
    "func(msg='Hello', name='Melborune')"
   ]
  },
  {
   "cell_type": "code",
   "execution_count": 109,
   "metadata": {},
   "outputs": [
    {
     "name": "stdout",
     "output_type": "stream",
     "text": [
      "Hello Melborune\n"
     ]
    }
   ],
   "source": [
    "def func(**kwargs):\n",
    "    print(kwargs['msg'],kwargs['name'])\n",
    "\n",
    "func(msg='Hello', name='Melborune')"
   ]
  },
  {
   "cell_type": "markdown",
   "metadata": {},
   "source": [
    "### passing default values to the arguments."
   ]
  },
  {
   "cell_type": "code",
   "execution_count": 112,
   "metadata": {},
   "outputs": [
    {
     "name": "stdout",
     "output_type": "stream",
     "text": [
      "Priyanka  this is default message\n",
      "Priyanka  Welcome to Australia\n"
     ]
    }
   ],
   "source": [
    "### passing default values to the arguments.\n",
    "\n",
    "def func (name, msg=\"this is default message\"):\n",
    "    print(name,\"\",msg)\n",
    "\n",
    "func('Priyanka')\n",
    "func('Priyanka','Welcome to Australia')"
   ]
  },
  {
   "cell_type": "markdown",
   "metadata": {},
   "source": [
    "### all arguments mentioned towards the right side of the argument should be defaulted else it throws error"
   ]
  },
  {
   "cell_type": "code",
   "execution_count": 117,
   "metadata": {},
   "outputs": [
    {
     "ename": "SyntaxError",
     "evalue": "non-default argument follows default argument (<ipython-input-117-a434cdf57e71>, line 1)",
     "output_type": "error",
     "traceback": [
      "\u001b[1;36m  File \u001b[1;32m\"<ipython-input-117-a434cdf57e71>\"\u001b[1;36m, line \u001b[1;32m1\u001b[0m\n\u001b[1;33m    def func (name='Priyu', msg):      # this is not allowed\u001b[0m\n\u001b[1;37m             ^\u001b[0m\n\u001b[1;31mSyntaxError\u001b[0m\u001b[1;31m:\u001b[0m non-default argument follows default argument\n"
     ]
    }
   ],
   "source": [
    "## This is not allowed  , first use non defaluted args and then deafaulted onesS\n",
    "\n",
    "def func (name='Priyu', msg):      # SyntaxError: non-default argument follows default argument\n",
    "    \n",
    "    print(name,\"\",msg)             \n",
    "  \n",
    "\n",
    "func('Priyanka')\n",
    "func('Priyanka','Welcome to Australia')"
   ]
  },
  {
   "cell_type": "markdown",
   "metadata": {},
   "source": [
    "### Recursive function -- function calling itself inside a function"
   ]
  },
  {
   "cell_type": "code",
   "execution_count": 164,
   "metadata": {},
   "outputs": [
    {
     "name": "stdout",
     "output_type": "stream",
     "text": [
      "fact is : 120\n"
     ]
    }
   ],
   "source": [
    "# factorial of a numbers i.e. 5! etc\n",
    "\n",
    "def fact(num):\n",
    "    #return 1 if num==0 else (num * fact(num-1))\n",
    "    if num==0: return 1\n",
    "    else:return (num* fact(num-1))\n",
    "        \n",
    "print(\"fact is :\", fact(5))"
   ]
  },
  {
   "cell_type": "code",
   "execution_count": 173,
   "metadata": {},
   "outputs": [
    {
     "ename": "SyntaxError",
     "evalue": "invalid syntax (<ipython-input-173-4ebfdef01958>, line 15)",
     "output_type": "error",
     "traceback": [
      "\u001b[1;36m  File \u001b[1;32m\"<ipython-input-173-4ebfdef01958>\"\u001b[1;36m, line \u001b[1;32m15\u001b[0m\n\u001b[1;33m    else print(\"Not a palindrome\")\u001b[0m\n\u001b[1;37m             ^\u001b[0m\n\u001b[1;31mSyntaxError\u001b[0m\u001b[1;31m:\u001b[0m invalid syntax\n"
     ]
    }
   ],
   "source": [
    "#### PROGRAM NEEDS TO BE WORKED UPON... I\n",
    "\n",
    "## ***** Incomplete *****\n",
    "\n",
    "def palindrome (word):\n",
    "    str1=''\n",
    "    for char in word:\n",
    "        str1= char + str1\n",
    "    return str1\n",
    "\n",
    "str2= palindrome('Maggy')\n",
    "print(str2)\n",
    "\n",
    "s2= str2.lower()\n",
    "\n",
    "s1= (input(\"enter a word :\")).lower()\n",
    "\n",
    "if s1 == s2 : print(\"It's a palindrom\")\n",
    "else print(\"Not a palindrome\")\n",
    "\n",
    "palindrome(\"malayalam\")\n"
   ]
  },
  {
   "cell_type": "markdown",
   "metadata": {},
   "source": [
    "### lambda functions   - lambda x : f(x)  - reduce /map / filter methods"
   ]
  },
  {
   "cell_type": "markdown",
   "metadata": {},
   "source": [
    "from functools import reduce\n",
    "myList =[1,2,3,4,5]\n",
    "sumList =reduce(lambda x,y : x+y, myList)     # reduce function will work on 2 parameters at a time. & it'll iterate over myList\n",
    "print(sumList)"
   ]
  },
  {
   "cell_type": "code",
   "execution_count": 184,
   "metadata": {},
   "outputs": [
    {
     "name": "stdout",
     "output_type": "stream",
     "text": [
      "[1, 4, 9, 16, 25]\n",
      "{1, 4, 9, 16, 25}\n"
     ]
    }
   ],
   "source": [
    "myList =[1,2,3,4,5]\n",
    "Sqr = list(map(lambda x : x*x , myList))    # map function applies the lambda to each component so its results \n",
    "                                            # needs to be collected in list or some collector\n",
    "print(Sqr)\n",
    "\n",
    "Sqr1 = set(map(lambda x : x*x , myList))    # map function applies the lambda to each component so its results \n",
    "                                            # needs to be collected in list, tuple or set\n",
    "print(Sqr1)"
   ]
  },
  {
   "cell_type": "code",
   "execution_count": 187,
   "metadata": {},
   "outputs": [
    {
     "name": "stdout",
     "output_type": "stream",
     "text": [
      "[1, 3, 5, 7, 9]\n"
     ]
    }
   ],
   "source": [
    "myList =[1,2,3,4,5,6,7,8,9]\n",
    "\n",
    "oddList = list (filter(lambda x: x%2 ==1 , myList))\n",
    "print(oddList)"
   ]
  }
 ],
 "metadata": {
  "kernelspec": {
   "display_name": "Python 3",
   "language": "python",
   "name": "python3"
  },
  "language_info": {
   "codemirror_mode": {
    "name": "ipython",
    "version": 3
   },
   "file_extension": ".py",
   "mimetype": "text/x-python",
   "name": "python",
   "nbconvert_exporter": "python",
   "pygments_lexer": "ipython3",
   "version": "3.7.3"
  }
 },
 "nbformat": 4,
 "nbformat_minor": 2
}
