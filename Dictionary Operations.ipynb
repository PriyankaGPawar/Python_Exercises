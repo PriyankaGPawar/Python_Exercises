{
 "cells": [
  {
   "cell_type": "code",
   "execution_count": null,
   "metadata": {},
   "outputs": [],
   "source": [
    "dict1 = {}\n",
    "print(type(dict1))\n",
    "\n",
    "dict1 = { 1:23, 2:34,3:45,4:56}\n",
    "print(dict1)\n",
    "\n",
    "dict2 = { 'name':23, 'page':34, (2,3):{12,23,34}}\n",
    "print(id(dict2))\n",
    "print(dict2)\n",
    "dict2 [(2,3)]"
   ]
  },
  {
   "cell_type": "markdown",
   "metadata": {},
   "source": [
    "### dictionary can have miscellaneous datatypes. But the keys can't be defined as sets. because sets are mutable."
   ]
  },
  {
   "cell_type": "code",
   "execution_count": null,
   "metadata": {},
   "outputs": [],
   "source": [
    "#to create a dictionary use method dict()\n",
    "\n",
    "\n",
    "d1= dict()\n",
    "print(d1, type(d1))\n"
   ]
  },
  {
   "cell_type": "markdown",
   "metadata": {},
   "source": [
    "### dict creation from list of tuples"
   ]
  },
  {
   "cell_type": "code",
   "execution_count": null,
   "metadata": {},
   "outputs": [],
   "source": [
    "d2 = dict([(1,10),(2,20)])    # list of tuples get converted to key value pairs\n",
    "print(d2)"
   ]
  },
  {
   "cell_type": "code",
   "execution_count": null,
   "metadata": {},
   "outputs": [],
   "source": [
    "dict2 = { 'name':23, 'page':34, (2,3):{12,23,34}}       # get(key) to access the value\n",
    "print(id(dict2))\n",
    "dict2['name']     # when we access the elements of the dictionary or anything, then the key or index value should be \n",
    "                  # passed through [] brackets\n",
    "\n",
    "print(dict2.get('page'))     \n"
   ]
  },
  {
   "cell_type": "markdown",
   "metadata": {},
   "source": [
    "### when the key is not found in the dict, then get(key) method on dictionary returns none instead of throwing error"
   ]
  },
  {
   "cell_type": "code",
   "execution_count": null,
   "metadata": {
    "scrolled": true
   },
   "outputs": [],
   "source": [
    "print(dict2.get('age'))    # key missing so none will be printed"
   ]
  },
  {
   "cell_type": "markdown",
   "metadata": {},
   "source": [
    "### add or update elements"
   ]
  },
  {
   "cell_type": "code",
   "execution_count": null,
   "metadata": {},
   "outputs": [],
   "source": [
    "dict2 = {'name':23, 'page':34, (2,3):{12,23,34}, 'marks':75}\n",
    "\n",
    "dict2['name']='Student'       ## updating the values for keys\n",
    "print(dict2)"
   ]
  },
  {
   "cell_type": "code",
   "execution_count": null,
   "metadata": {},
   "outputs": [],
   "source": [
    "dict2['div']='A'      ## Adding new key-value pairs\n",
    "print(dict2)"
   ]
  },
  {
   "cell_type": "markdown",
   "metadata": {},
   "source": [
    "### delete or remove the elements"
   ]
  },
  {
   "cell_type": "code",
   "execution_count": null,
   "metadata": {},
   "outputs": [],
   "source": [
    "dict2.pop((2,3))\n",
    "print(dict2)"
   ]
  },
  {
   "cell_type": "code",
   "execution_count": null,
   "metadata": {},
   "outputs": [],
   "source": [
    "dict1 = { 1:23, 2:34,3:45,4:56}\n",
    "del dict1[4]\n",
    "print(dict1)"
   ]
  },
  {
   "cell_type": "code",
   "execution_count": null,
   "metadata": {},
   "outputs": [],
   "source": [
    "### del dict[key1]   -- only key1 and value will be deleted\n",
    "\n",
    "### del dict         -- here complete dictionary and its empty space will be removed"
   ]
  },
  {
   "cell_type": "code",
   "execution_count": null,
   "metadata": {},
   "outputs": [],
   "source": [
    "del dict1\n",
    "print(dict1)    # after deletion of dict, print will show error as the complete space is cleaned up"
   ]
  },
  {
   "cell_type": "code",
   "execution_count": null,
   "metadata": {},
   "outputs": [],
   "source": [
    "### Clear()  this will clear all the elements of dictionary. Only the empty dict will stay"
   ]
  },
  {
   "cell_type": "code",
   "execution_count": null,
   "metadata": {},
   "outputs": [],
   "source": [
    "dict2.clear()\n",
    "print(dict2)"
   ]
  },
  {
   "cell_type": "markdown",
   "metadata": {},
   "source": [
    "### create new dictionary from keys and values -- keys should be passed in as a list and values initialised to 0/anything"
   ]
  },
  {
   "cell_type": "code",
   "execution_count": null,
   "metadata": {},
   "outputs": [],
   "source": [
    "myDict = {}.fromkeys(['apple','banana','kiwi'],0)\n",
    "print(myDict)"
   ]
  },
  {
   "cell_type": "code",
   "execution_count": null,
   "metadata": {},
   "outputs": [],
   "source": [
    "myDict.keys()       # this will print all the KEYS from the dictionary\n",
    "\n",
    "myDict.values()     # this will print all the VALUES from the dictionary"
   ]
  },
  {
   "cell_type": "code",
   "execution_count": null,
   "metadata": {},
   "outputs": [],
   "source": [
    "myDict.items()                # items() method will return the new view of the dict.  \n",
    "                              # key-value pairs displayed in the form of list of tuples"
   ]
  },
  {
   "cell_type": "markdown",
   "metadata": {},
   "source": [
    "### To print all the directives in the dictionary class, use the method dir(dictionary-name)\n",
    "directives are the methods and other operations "
   ]
  },
  {
   "cell_type": "code",
   "execution_count": null,
   "metadata": {},
   "outputs": [],
   "source": [
    "myDict1= {}\n",
    "print(dir(myDict1))"
   ]
  },
  {
   "cell_type": "markdown",
   "metadata": {},
   "source": [
    "### compreshension in the dictionary... smarter/shorter way of writing dictionary"
   ]
  },
  {
   "cell_type": "code",
   "execution_count": null,
   "metadata": {},
   "outputs": [],
   "source": [
    "fruits = {'apple': 5, 'banana': 2, 'kiwi': 8}\n",
    "\n",
    "## create new dictionary with even keys\n",
    "\n",
    "for element in fruits.keys():\n",
    "    print(element)\n",
    "    \n",
    "for element in fruits.items():\n",
    "    print(element)\n",
    "    \n",
    "for element in fruits.values():\n",
    "    print(element)"
   ]
  },
  {
   "cell_type": "markdown",
   "metadata": {},
   "source": [
    "### create new dictionary with even keys   -- Comprehension"
   ]
  },
  {
   "cell_type": "code",
   "execution_count": 4,
   "metadata": {},
   "outputs": [
    {
     "name": "stdout",
     "output_type": "stream",
     "text": [
      "{'banana': 2, 'kiwi': 8}\n",
      "{'kiwi': 8}\n"
     ]
    }
   ],
   "source": [
    "fruits ={'apple': 5, 'banana': 2, 'kiwi': 8}\n",
    "\n",
    "newFruit1 = {k:v for k,v in fruits.items() if v%2 ==0 }       # create dict if the value is even\n",
    "print(newFruit1)\n",
    "\n",
    "newFruit2 = {k:v for k,v in fruits.items() if v//2 == 4 }     # create dict if division yields 4\n",
    "print(newFruit2)"
   ]
  },
  {
   "cell_type": "markdown",
   "metadata": {},
   "source": [
    "### complex calculations can also be done on the key value pairs, from the key values extracted from old dict"
   ]
  },
  {
   "cell_type": "code",
   "execution_count": 7,
   "metadata": {},
   "outputs": [
    {
     "name": "stdout",
     "output_type": "stream",
     "text": [
      "{'best banana': '2 Sweet', 'best kiwi': '8 Sweet'}\n",
      "{'best apple': 50}\n"
     ]
    }
   ],
   "source": [
    "calcFruits1 = {'best '+ k: str(v)+' Sweet' for k,v in fruits.items() if v %2 ==0}\n",
    "print(calcFruits1)\n",
    "\n",
    "calcFruits2 = {'best '+k : v* 10 for k,v in fruits.items() if v%5 ==0}  \n",
    "print(calcFruits2)"
   ]
  },
  {
   "cell_type": "code",
   "execution_count": 32,
   "metadata": {},
   "outputs": [
    {
     "name": "stdout",
     "output_type": "stream",
     "text": [
      "0\n",
      "1\n",
      "2\n",
      "3\n",
      "4\n",
      "comprehension items2 : [2, 4, 5, 6, 7]\n"
     ]
    }
   ],
   "source": [
    "item1 = [2,4,5,6,7]\n",
    "#item2 = item1 [-1::-1]\n",
    "#print(item1, item2)\n",
    "\n",
    "item2 =[]\n",
    "len(item1)\n",
    "for i in range(5):  \n",
    "    print(i)\n",
    "    item2.append(item1[i])\n",
    "print(\"comprehension items2 :\", item2)\n",
    "\n",
    "    "
   ]
  }
 ],
 "metadata": {
  "kernelspec": {
   "display_name": "Python 3",
   "language": "python",
   "name": "python3"
  },
  "language_info": {
   "codemirror_mode": {
    "name": "ipython",
    "version": 3
   },
   "file_extension": ".py",
   "mimetype": "text/x-python",
   "name": "python",
   "nbconvert_exporter": "python",
   "pygments_lexer": "ipython3",
   "version": "3.7.3"
  }
 },
 "nbformat": 4,
 "nbformat_minor": 2
}
