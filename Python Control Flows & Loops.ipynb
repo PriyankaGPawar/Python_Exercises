{
 "cells": [
  {
   "cell_type": "markdown",
   "metadata": {},
   "source": [
    "### If, elif (else if) and else Statement"
   ]
  },
  {
   "cell_type": "code",
   "execution_count": 101,
   "metadata": {},
   "outputs": [
    {
     "name": "stdout",
     "output_type": "stream",
     "text": [
      "I will learn something new and then look for job\n"
     ]
    }
   ],
   "source": [
    "str1 ='I get the job offer' \n",
    "str2 ='str'\n",
    "    \n",
    "if len(str1) < len(str2) :\n",
    "    print('I will put papers')\n",
    "elif 'I dont get any change':\n",
    "        print('I will learn something new and then look for job')\n",
    "else:\n",
    "    print('I will anyway quit')"
   ]
  },
  {
   "cell_type": "markdown",
   "metadata": {},
   "source": [
    "### Rules of if, else -\n",
    "- It treats the o and None as False \n",
    "- Any number, apart from 0 and None, are treated as True while evaluating the 'IF' clause\n"
   ]
  },
  {
   "cell_type": "code",
   "execution_count": 24,
   "metadata": {},
   "outputs": [
    {
     "name": "stdout",
     "output_type": "stream",
     "text": [
      "Inside else\n",
      "Else\n"
     ]
    }
   ],
   "source": [
    "if 0 :\n",
    "    print(\"Inside if\")\n",
    "else :\n",
    "    print('Inside else')\n",
    "\n",
    "# ---\n",
    "\n",
    "if None :\n",
    "    print(\"If\")\n",
    "else : \n",
    "    print(\"Else\")"
   ]
  },
  {
   "cell_type": "markdown",
   "metadata": {},
   "source": [
    "### Nested if Else"
   ]
  },
  {
   "cell_type": "code",
   "execution_count": 28,
   "metadata": {},
   "outputs": [
    {
     "name": "stdout",
     "output_type": "stream",
     "text": [
      "child\n",
      "I am outside nested if else\n"
     ]
    }
   ],
   "source": [
    "age = 12\n",
    "if age >13 :\n",
    "    if age <= 19 :\n",
    "        print('Teen')\n",
    "    else :    \n",
    "        print('Adult')\n",
    "else:\n",
    "    print('child')\n",
    "    \n",
    "print('I am outside nested if else')"
   ]
  },
  {
   "cell_type": "markdown",
   "metadata": {},
   "source": [
    "### While loop"
   ]
  },
  {
   "cell_type": "code",
   "execution_count": 32,
   "metadata": {},
   "outputs": [
    {
     "name": "stdout",
     "output_type": "stream",
     "text": [
      "The concatenated String is : abcdef\n"
     ]
    }
   ],
   "source": [
    "myList=['a','b','c','d','e','f']\n",
    "\n",
    "i=0\n",
    "sum=''       # define empty string\n",
    "\n",
    "while i < len(myList):\n",
    "    sum += myList[i]   \n",
    "    i += 1\n",
    "print(\"The concatenated String is :\",sum)"
   ]
  },
  {
   "cell_type": "code",
   "execution_count": 55,
   "metadata": {},
   "outputs": [
    {
     "name": "stdout",
     "output_type": "stream",
     "text": [
      "sum now: 2 and value of i before :  1\n",
      "value of i after increment : 2\n",
      "sum now: 5 and value of i before :  2\n",
      "value of i after increment : 3\n",
      "sum now: 9 and value of i before :  3\n",
      "value of i after increment : 4\n",
      "sum now: 14 and value of i before :  4\n",
      "value of i after increment : 5\n",
      "Outside while loop\n"
     ]
    }
   ],
   "source": [
    "myList1=[1,2,3,4,5]\n",
    "i=1\n",
    "sum=0\n",
    "\n",
    "while i < len(myList1) :\n",
    "    sum = sum + myList1[i]\n",
    "    print(\"sum now:\",sum,\"and value of i before : \",i)\n",
    "    i = i+1\n",
    "    print('value of i after increment :',i)\n",
    "    \n",
    "print(\"Outside while loop\")"
   ]
  },
  {
   "cell_type": "markdown",
   "metadata": {},
   "source": [
    "### While and Break statement"
   ]
  },
  {
   "cell_type": "code",
   "execution_count": 59,
   "metadata": {},
   "outputs": [
    {
     "name": "stdout",
     "output_type": "stream",
     "text": [
      "Intermittent sum : 0\n",
      "Outside while due to break\n"
     ]
    }
   ],
   "source": [
    "myList2 = [1,2,3,4]\n",
    "\n",
    "i=0\n",
    "sum=0\n",
    "\n",
    "while i < len(myList2):\n",
    "    sum += i\n",
    "    print(\"Intermittent sum :\",sum)\n",
    "    break\n",
    "    i += 1\n",
    "\n",
    "print(\"Outside while due to break\")\n"
   ]
  },
  {
   "cell_type": "code",
   "execution_count": 83,
   "metadata": {},
   "outputs": [
    {
     "name": "stdout",
     "output_type": "stream",
     "text": [
      "3\n",
      "[1, 2, 3, 4, 5]\n"
     ]
    }
   ],
   "source": [
    "myList3= [1,2,3,4,5]\n",
    "sum=0\n",
    "i=3\n",
    "while i in myList3:    # here i in list means that value of i is present in the individual elements of list. \n",
    "                       # then only it evaluates to true.\n",
    "    print(i)\n",
    "    break\n",
    "print(myList3)"
   ]
  },
  {
   "cell_type": "markdown",
   "metadata": {},
   "source": [
    "### While and optional else block in the end"
   ]
  },
  {
   "cell_type": "code",
   "execution_count": 85,
   "metadata": {},
   "outputs": [
    {
     "name": "stdout",
     "output_type": "stream",
     "text": [
      "3\n",
      "4\n",
      "[1, 2, 3, 4, 5]\n"
     ]
    }
   ],
   "source": [
    "myList3= [1,2,3,4,5]\n",
    "sum=0\n",
    "i=3\n",
    "while i < len(myList3) : \n",
    "    print(i)\n",
    "    i +=1  \n",
    "else : print(myList3)"
   ]
  },
  {
   "cell_type": "markdown",
   "metadata": {},
   "source": [
    "### Factorial of a number using while"
   ]
  },
  {
   "cell_type": "code",
   "execution_count": 66,
   "metadata": {},
   "outputs": [
    {
     "name": "stdout",
     "output_type": "stream",
     "text": [
      "Enter the number to calculate the factorial :5\n",
      "<class 'int'>\n",
      "Results are as below :\n",
      "The factorial of 5 is : 120\n",
      "Outside of factorial function\n"
     ]
    }
   ],
   "source": [
    "fact =int( input(\"Enter the number to calculate the factorial :\"))\n",
    "print(type(fact))\n",
    "\n",
    "if (fact <= 0):\n",
    "    fact=int(input(print(\"Please re-enter number greater than 0 :\")))\n",
    "else:\n",
    "    print(\"Results are as below :\")\n",
    "\n",
    "fact1 = 1\n",
    "index =1\n",
    "\n",
    "while index <= fact :\n",
    "    fact1 *= index\n",
    "    index += 1\n",
    "\n",
    "print(\"The factorial of {} is : {}\".format(fact,fact1))\n",
    "\n",
    "print(\"Outside of factorial function\")"
   ]
  },
  {
   "cell_type": "markdown",
   "metadata": {},
   "source": [
    "### For loop\n",
    "syntax : for index in number :\n",
    "            for code block\n",
    "          "
   ]
  },
  {
   "cell_type": "code",
   "execution_count": 74,
   "metadata": {},
   "outputs": [
    {
     "name": "stdout",
     "output_type": "stream",
     "text": [
      "Sum is 150\n"
     ]
    }
   ],
   "source": [
    "mylist4 = [10,20,30,40,50]\n",
    "sum=0\n",
    "for i in mylist4 :       # here IN statement iterates the i in all values of mylist4\n",
    "    sum +=i\n",
    "print(\"Sum is {}\".format(sum))"
   ]
  },
  {
   "cell_type": "markdown",
   "metadata": {},
   "source": [
    "Range function can be used in the for clause.\n",
    "Range (start,stop, step size)\n",
    "\n",
    "range(5) # default value start = 0, \n",
    "         # default step size = 1"
   ]
  },
  {
   "cell_type": "code",
   "execution_count": 81,
   "metadata": {},
   "outputs": [
    {
     "name": "stdout",
     "output_type": "stream",
     "text": [
      "1\n",
      "3\n"
     ]
    }
   ],
   "source": [
    "for i in range(0,4,2):\n",
    "    i= i+1\n",
    "    print(i)\n"
   ]
  },
  {
   "cell_type": "markdown",
   "metadata": {},
   "source": [
    "### For and optional else block in the end , also used break statement"
   ]
  },
  {
   "cell_type": "code",
   "execution_count": 98,
   "metadata": {},
   "outputs": [
    {
     "name": "stdout",
     "output_type": "stream",
     "text": [
      "Priya\n",
      "Rinku\n"
     ]
    }
   ],
   "source": [
    "names = ['Priya','Rinku','Kiran','Rutuja']\n",
    "i=0\n",
    "for i in names:\n",
    "    print(i)\n",
    "    if i == 'Rinku':\n",
    "        break\n",
    "else:print(\"Optional else of the for loop\")"
   ]
  },
  {
   "cell_type": "code",
   "execution_count": 102,
   "metadata": {},
   "outputs": [
    {
     "name": "stdout",
     "output_type": "stream",
     "text": [
      "No Python documentation found for 'append'.\n",
      "Use help() to get the interactive help utility.\n",
      "Use help(str) for help on the str class.\n",
      "\n"
     ]
    }
   ],
   "source": [
    "help('append')"
   ]
  },
  {
   "cell_type": "code",
   "execution_count": null,
   "metadata": {},
   "outputs": [],
   "source": []
  }
 ],
 "metadata": {
  "kernelspec": {
   "display_name": "Python 3",
   "language": "python",
   "name": "python3"
  },
  "language_info": {
   "codemirror_mode": {
    "name": "ipython",
    "version": 3
   },
   "file_extension": ".py",
   "mimetype": "text/x-python",
   "name": "python",
   "nbconvert_exporter": "python",
   "pygments_lexer": "ipython3",
   "version": "3.7.3"
  }
 },
 "nbformat": 4,
 "nbformat_minor": 2
}
