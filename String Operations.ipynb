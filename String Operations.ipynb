{
 "cells": [
  {
   "cell_type": "code",
   "execution_count": 8,
   "metadata": {},
   "outputs": [
    {
     "name": "stdout",
     "output_type": "stream",
     "text": [
      "Single\n",
      "S\n",
      "SINGLE\n",
      "single\n"
     ]
    }
   ],
   "source": [
    "str1 = 'Single'\n",
    "print(str1)\n",
    "print(str1[0])\n",
    "strU = str1.upper()\n",
    "print(strU)\n",
    "strL = str1.lower()\n",
    "print(strL)"
   ]
  },
  {
   "cell_type": "code",
   "execution_count": 12,
   "metadata": {},
   "outputs": [
    {
     "data": {
      "text/plain": [
       "'elbuoD'"
      ]
     },
     "execution_count": 12,
     "metadata": {},
     "output_type": "execute_result"
    }
   ],
   "source": [
    "str2= \"Double\"\n",
    "str2[::-1]     # reverse the string"
   ]
  },
  {
   "cell_type": "markdown",
   "metadata": {},
   "source": [
    "### Strings are immutable.  its elements can not be changed"
   ]
  },
  {
   "cell_type": "code",
   "execution_count": 16,
   "metadata": {},
   "outputs": [
    {
     "name": "stdout",
     "output_type": "stream",
     "text": [
      "47970096\n",
      "47970096\n",
      "dingle\n",
      "114924096\n"
     ]
    }
   ],
   "source": [
    "str1 ='single'\n",
    "#  str1[0]='d'   # this give TypeError: 'str' object does not support item assignment\n",
    "\n",
    "str2 ='single'\n",
    "print(id(str1))\n",
    "print(id(str2))\n",
    "\n",
    "str1='dingle'  # this is possible. we can totally assing new value to string and this will replace previous contents of string\n",
    "print(str1)\n",
    "print(id(str1))"
   ]
  },
  {
   "cell_type": "code",
   "execution_count": 17,
   "metadata": {},
   "outputs": [
    {
     "ename": "NameError",
     "evalue": "name 'str1' is not defined",
     "output_type": "error",
     "traceback": [
      "\u001b[1;31m---------------------------------------------------------------------------\u001b[0m",
      "\u001b[1;31mNameError\u001b[0m                                 Traceback (most recent call last)",
      "\u001b[1;32m<ipython-input-17-6f25af838a38>\u001b[0m in \u001b[0;36m<module>\u001b[1;34m\u001b[0m\n\u001b[0;32m      1\u001b[0m \u001b[1;32mdel\u001b[0m \u001b[0mstr1\u001b[0m\u001b[1;33m\u001b[0m\u001b[1;33m\u001b[0m\u001b[0m\n\u001b[1;32m----> 2\u001b[1;33m \u001b[0mprint\u001b[0m\u001b[1;33m(\u001b[0m\u001b[0mstr1\u001b[0m\u001b[1;33m)\u001b[0m\u001b[1;33m\u001b[0m\u001b[1;33m\u001b[0m\u001b[0m\n\u001b[0m",
      "\u001b[1;31mNameError\u001b[0m: name 'str1' is not defined"
     ]
    }
   ],
   "source": [
    "del str1     # removes the complete string and space is emptied\n",
    "print(str1)  # this will throw error as string is deleted from memory"
   ]
  },
  {
   "cell_type": "code",
   "execution_count": 25,
   "metadata": {},
   "outputs": [
    {
     "data": {
      "text/plain": [
       "'ProgrammingProgrammingProgramming'"
      ]
     },
     "execution_count": 25,
     "metadata": {},
     "output_type": "execute_result"
    }
   ],
   "source": [
    "str1='Python'\n",
    "str2 ='Programming'\n",
    "\n",
    "str1+\" \"+str2            ##  concat\n",
    "(str1+' ') *2        # repeating a string n time using * operator\n",
    "\n",
    "str2 *3"
   ]
  },
  {
   "cell_type": "code",
   "execution_count": 34,
   "metadata": {},
   "outputs": [
    {
     "name": "stdout",
     "output_type": "stream",
     "text": [
      "6\n",
      "['P', 'y', 't', 'h', 'o', 'n']\n"
     ]
    }
   ],
   "source": [
    "str1 ='Python'\n",
    "\n",
    "length=len(str1)\n",
    "print(length)\n",
    "i=1\n",
    "list1=[]\n",
    "\n",
    "for char in \"Python\":\n",
    "    list1.append(char)\n",
    "    i += 1\n",
    "\n",
    "print(list1)"
   ]
  },
  {
   "cell_type": "code",
   "execution_count": 35,
   "metadata": {},
   "outputs": [
    {
     "name": "stdout",
     "output_type": "stream",
     "text": [
      "present\n"
     ]
    }
   ],
   "source": [
    "str1 ='Python Programming'\n",
    "\n",
    "if 'm' in str1:\n",
    "    print(\"present\")\n",
    "else:\n",
    "    print(\"absent\")"
   ]
  },
  {
   "cell_type": "markdown",
   "metadata": {},
   "source": [
    "### lower (),  upper() methods"
   ]
  },
  {
   "cell_type": "code",
   "execution_count": 36,
   "metadata": {},
   "outputs": [
    {
     "data": {
      "text/plain": [
       "'python programming'"
      ]
     },
     "execution_count": 36,
     "metadata": {},
     "output_type": "execute_result"
    }
   ],
   "source": [
    "str1.lower()"
   ]
  },
  {
   "cell_type": "code",
   "execution_count": 37,
   "metadata": {},
   "outputs": [
    {
     "data": {
      "text/plain": [
       "'PYTHON PROGRAMMING'"
      ]
     },
     "execution_count": 37,
     "metadata": {},
     "output_type": "execute_result"
    }
   ],
   "source": [
    "str1.upper()"
   ]
  },
  {
   "cell_type": "markdown",
   "metadata": {},
   "source": [
    "### split and join  -- both are opposite to each other"
   ]
  },
  {
   "cell_type": "code",
   "execution_count": 47,
   "metadata": {},
   "outputs": [
    {
     "name": "stdout",
     "output_type": "stream",
     "text": [
      "Python Programming\n"
     ]
    },
    {
     "data": {
      "text/plain": [
       "'j o i n   b a c k   t h i s   s t r i n g'"
      ]
     },
     "execution_count": 47,
     "metadata": {},
     "output_type": "execute_result"
    }
   ],
   "source": [
    "print(str1)\n",
    "str1.split()    # space is the default separator\n",
    "\n",
    "'|'.join(str1)   # join will put the concat string '|' after every character of str1\n",
    "\n",
    "str2 = \"join back this string\"\n",
    "str2.split()                # split will separate and make a list.\n",
    "\n",
    "\" \".join(str2)                         # join is used to create a list"
   ]
  },
  {
   "cell_type": "markdown",
   "metadata": {},
   "source": [
    "### find function  -- to search for a substring inside a string"
   ]
  },
  {
   "cell_type": "code",
   "execution_count": 62,
   "metadata": {},
   "outputs": [
    {
     "name": "stdout",
     "output_type": "stream",
     "text": [
      "join back this string\n",
      "2\n"
     ]
    },
    {
     "data": {
      "text/plain": [
       "-1"
      ]
     },
     "execution_count": 62,
     "metadata": {},
     "output_type": "execute_result"
    }
   ],
   "source": [
    "print(str2)\n",
    "print(str2.find('in')) # if string is present, it will print index position of that character\n",
    "str2.find('x')        # if the string is not present, it will print -1"
   ]
  },
  {
   "cell_type": "markdown",
   "metadata": {},
   "source": [
    "### replace method -- to replace str1 by str2"
   ]
  },
  {
   "cell_type": "code",
   "execution_count": 65,
   "metadata": {},
   "outputs": [
    {
     "name": "stdout",
     "output_type": "stream",
     "text": [
      "Python Programe\n"
     ]
    }
   ],
   "source": [
    "str1 ='Python Programming'\n",
    "str3= str1.replace('mming','me')\n",
    "print(str3)"
   ]
  },
  {
   "cell_type": "code",
   "execution_count": null,
   "metadata": {},
   "outputs": [],
   "source": [
    "### string is palindrome or not . Palindrome = string and its reverse string both are equal"
   ]
  },
  {
   "cell_type": "code",
   "execution_count": 85,
   "metadata": {},
   "outputs": [
    {
     "name": "stdout",
     "output_type": "stream",
     "text": [
      "malayaLaM\n",
      "This is a palindrom\n"
     ]
    }
   ],
   "source": [
    "myStr1= 'MaLayalam'\n",
    "myStr2= ''\n",
    "\n",
    "for char in myStr1:\n",
    "    myStr2 = char +myStr2\n",
    "print(myStr2)\n",
    "\n",
    "if myStr1.lower()== myStr2.lower() :\n",
    "    print(\"This is a palindrom\")\n",
    "else:\n",
    "    print(\"String is not palindrom\")"
   ]
  },
  {
   "cell_type": "code",
   "execution_count": 5,
   "metadata": {},
   "outputs": [
    {
     "name": "stdout",
     "output_type": "stream",
     "text": [
      "['This', 'String', 'is', 'a', 'palindrom']\n",
      "after reversal : ['palindrom', 'is', 'a', 'This', 'String']\n"
     ]
    }
   ],
   "source": [
    "string1 =\"This String is a palindrom\"\n",
    "revString=''\n",
    "\n",
    "string2= string1.split(' ')\n",
    "print(string2)\n",
    "\n",
    "string2.sort(reverse=True)\n",
    "\n",
    "print(\"after reversal :\",string2)    # it sorts as per the ASCII values of the characters"
   ]
  },
  {
   "cell_type": "code",
   "execution_count": 14,
   "metadata": {},
   "outputs": [
    {
     "name": "stdout",
     "output_type": "stream",
     "text": [
      "Mumbai is höamazing\n",
      "Encoded version with ignore is : b'Mumbai is hamazing'\n",
      "Encoded version with error is : b'Mumbai is h?amazing'\n"
     ]
    }
   ],
   "source": [
    "string1 = \"Mumbai is höamazing\"\n",
    "string2= string1.encode()\n",
    "print(string1)\n",
    "print(\"Encoded version with ignore is :\",string1.encode('ascii','ignore'))   # ö --the special character is ignored\n",
    "\n",
    "print(\"Encoded version with error is :\",string1.encode('ascii','replace'))  # ö- the special character is replaced with ? symbol\n"
   ]
  },
  {
   "cell_type": "code",
   "execution_count": 13,
   "metadata": {},
   "outputs": [
    {
     "name": "stdout",
     "output_type": "stream",
     "text": [
      "The string is: pythön!\n",
      "The encoded version (with ignore) is: b'pythn!'\n",
      "The encoded version (with replace) is: b'pyth?n!'\n"
     ]
    }
   ],
   "source": [
    "string = 'pythön!'\n",
    "# print string\n",
    "print('The string is:', string)\n",
    "# ignore error\n",
    "print('The encoded version (with ignore) is:', string.encode(\"ascii\", \"ignore\"))\n",
    "# replace error\n",
    "print('The encoded version (with replace) is:', string.encode(\"ascii\", \"replace\"))"
   ]
  }
 ],
 "metadata": {
  "kernelspec": {
   "display_name": "Python 3",
   "language": "python",
   "name": "python3"
  },
  "language_info": {
   "codemirror_mode": {
    "name": "ipython",
    "version": 3
   },
   "file_extension": ".py",
   "mimetype": "text/x-python",
   "name": "python",
   "nbconvert_exporter": "python",
   "pygments_lexer": "ipython3",
   "version": "3.7.3"
  }
 },
 "nbformat": 4,
 "nbformat_minor": 2
}
