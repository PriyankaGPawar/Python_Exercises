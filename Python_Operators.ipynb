{
 "cells": [
  {
   "cell_type": "markdown",
   "metadata": {},
   "source": [
    "Python opertors - arithematic (+, -, /, %, *, //)\n",
    "Results are numbers"
   ]
  },
  {
   "cell_type": "code",
   "execution_count": null,
   "metadata": {},
   "outputs": [],
   "source": [
    "var1, var2 = 5,3\n",
    "print (var1 + var2)\n",
    "print (var1 /var2)\n",
    "print (var1 % var2)  # modulus operation, returns remainder\n",
    "print (var1 //var2)  # performs division and returns the whole number in the division\n",
    "\n"
   ]
  },
  {
   "cell_type": "markdown",
   "metadata": {},
   "source": [
    "Python opertors - comparison (>, <, <= , >= ,)\n",
    "Results are boolean variables"
   ]
  },
  {
   "cell_type": "code",
   "execution_count": null,
   "metadata": {},
   "outputs": [],
   "source": [
    "a,b =4, 7\n",
    "print(a>b)\n",
    "print(a <=b)\n",
    "print(a != b)\n",
    "print(a >= b)"
   ]
  },
  {
   "cell_type": "code",
   "execution_count": null,
   "metadata": {},
   "outputs": [],
   "source": [
    "Python opertors - Logical (AND, OR, NOT)\n",
    "Results are boolean variables i.e true or false"
   ]
  },
  {
   "cell_type": "code",
   "execution_count": null,
   "metadata": {},
   "outputs": [],
   "source": [
    "v1 , v2 =True, False\n",
    "\n",
    "print(v1 and v2)\n",
    "print(v1 or v2)\n",
    "print(not v2)"
   ]
  },
  {
   "cell_type": "markdown",
   "metadata": {},
   "source": [
    "Python opertors - Bitwise , they operate on each bit,  they are &, |, caret, >>, <<\n",
    "convert the number/decimal into byte format. (8 bit)\n",
    "for ex - 3 is represented in 8 bit system as -> 0000 0011 \n",
    "first 4 digits are sign and rest 4 are 2 to the power 3, 2 to the power 2, 2 to the power 1, 2 to the power 0 from left to \n",
    "right.\n"
   ]
  },
  {
   "cell_type": "code",
   "execution_count": 23,
   "metadata": {},
   "outputs": [
    {
     "name": "stdout",
     "output_type": "stream",
     "text": [
      "5\n",
      "7\n",
      "-6\n",
      "-8\n"
     ]
    }
   ],
   "source": [
    "x,y= 5,7       # 5= 0000 0101 , 7= 0000 0111\n",
    "print (x & y)    # 0000 0111 & 0000 0101 = 0000 0101\n",
    "'''\n",
    "     0000 0111\n",
    "     0000 0101\n",
    "res: 0000 0101  (and operator is applied on the bits vertically)\n",
    "'''\n",
    "\n",
    "print (x | y)  # 0000 0111 | 0000 0101 = 0000 0111\n",
    "\n",
    "'''\n",
    "    bitwise NOT operator , this will reverse all the digit so 0 will become 1 and vice a versa\n",
    "    ~ 0000 0101 = 1111 1010  ->decimal number is 250. computer uses signed 2's complement method and hence then counts\n",
    "    these numbers from reverse side i.e -256\n",
    "'''\n",
    "print (~ x)\n",
    "print (~ y)"
   ]
  },
  {
   "cell_type": "markdown",
   "metadata": {},
   "source": [
    "Bitwise XOR - this is exclusive OR , so results are exactly opposite of OR operation. \n",
    "When one of the bit is 1 and another is 0 then it gives output as 1 else 0."
   ]
  },
  {
   "cell_type": "code",
   "execution_count": 24,
   "metadata": {},
   "outputs": [
    {
     "name": "stdout",
     "output_type": "stream",
     "text": [
      "2\n"
     ]
    }
   ],
   "source": [
    "x, y =5,7       # 5= 0000 0101 , 7= 0000 0111\n",
    "print (x ^ y)   # 0000 0101 ^ 0000 0111 -> 0000 0010\n"
   ]
  },
  {
   "cell_type": "markdown",
   "metadata": {},
   "source": [
    "Shift Operator , >> right shift ;  << left shift"
   ]
  },
  {
   "cell_type": "code",
   "execution_count": null,
   "metadata": {},
   "outputs": [],
   "source": [
    "print ( x << 2)  # 5= 0000 0101 -> 0001 0100  = 20\n",
    "print (y>> 3)    # 7= 0000 0111  -> 0000 0000  =0\n"
   ]
  },
  {
   "cell_type": "markdown",
   "metadata": {},
   "source": [
    "Ientity Operator - IS and IS NOT\n",
    "Membership Operator- IN and NOT IN"
   ]
  },
  {
   "cell_type": "code",
   "execution_count": 28,
   "metadata": {},
   "outputs": [
    {
     "name": "stdout",
     "output_type": "stream",
     "text": [
      "True\n",
      "False\n",
      "True\n"
     ]
    }
   ],
   "source": [
    "var1= 10\n",
    "var2=10\n",
    "print (var1 is var2)    # for primitive datatypes like number or string, python allocates same memory location\n",
    "\n",
    "list1 =[1,2,3]\n",
    "list2 =[1,2,3]\n",
    "\n",
    "print(list1 is list2)   # for bigger objects, it stores data separately hence the result is false\n",
    "print(list1 is not list2) "
   ]
  },
  {
   "cell_type": "code",
   "execution_count": 33,
   "metadata": {},
   "outputs": [
    {
     "name": "stdout",
     "output_type": "stream",
     "text": [
      "['v', 10, 20, 'ga', 'va']\n",
      "True\n"
     ]
    }
   ],
   "source": [
    "list3 = ['v',10,20,'ga','va']\n",
    "print(list3)\n",
    "print('v' in list3)"
   ]
  }
 ],
 "metadata": {
  "kernelspec": {
   "display_name": "Python 3",
   "language": "python",
   "name": "python3"
  },
  "language_info": {
   "codemirror_mode": {
    "name": "ipython",
    "version": 3
   },
   "file_extension": ".py",
   "mimetype": "text/x-python",
   "name": "python",
   "nbconvert_exporter": "python",
   "pygments_lexer": "ipython3",
   "version": "3.7.3"
  }
 },
 "nbformat": 4,
 "nbformat_minor": 2
}
