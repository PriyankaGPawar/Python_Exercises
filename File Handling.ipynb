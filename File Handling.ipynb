{
 "cells": [
  {
   "cell_type": "code",
   "execution_count": 3,
   "metadata": {},
   "outputs": [],
   "source": [
    "f1= open(r\"C:\\\\Users\\\\DELL\\\\PythonCodes\\\\Test_file.txt\")\n",
    "f1= open(r\"C:\\\\Users\\\\DELL\\\\PythonCodes\\\\Test_file.txt\",'w')"
   ]
  },
  {
   "cell_type": "code",
   "execution_count": 5,
   "metadata": {},
   "outputs": [],
   "source": [
    "f2= open(r\"C:\\\\Users\\\\DELL\\\\PythonCodes\\\\Test_file.txt\") \n",
    "f2.close()"
   ]
  },
  {
   "cell_type": "code",
   "execution_count": 6,
   "metadata": {},
   "outputs": [],
   "source": [
    "f3=open (r\"C:\\\\Users\\\\DELL\\\\PythonCodes\\\\Test_file.txt\",encoding='utf-8')"
   ]
  },
  {
   "cell_type": "markdown",
   "metadata": {},
   "source": [
    "### try and finally block"
   ]
  },
  {
   "cell_type": "code",
   "execution_count": 12,
   "metadata": {},
   "outputs": [],
   "source": [
    "try:\n",
    "    f4=open (r\"C:\\\\Users\\\\DELL\\\\PythonCodes\\\\Test_file.txt\",encoding='utf-8')\n",
    "\n",
    "finally:\n",
    "    f4.close()"
   ]
  },
  {
   "cell_type": "markdown",
   "metadata": {},
   "source": [
    "### with clause can also be used to close the file after operations are done on file"
   ]
  },
  {
   "cell_type": "code",
   "execution_count": 21,
   "metadata": {},
   "outputs": [
    {
     "name": "stdout",
     "output_type": "stream",
     "text": [
      "xys\n"
     ]
    }
   ],
   "source": [
    "with open(r\"C:\\\\Users\\\\DELL\\\\PythonCodes\\\\Test_file.txt\",encoding='utf-8') as f:\n",
    "    print(\"xys\")\n",
    "## write some codes to perform operations on files"
   ]
  },
  {
   "cell_type": "code",
   "execution_count": 28,
   "metadata": {},
   "outputs": [],
   "source": [
    "f=open (r\"C:\\\\Users\\\\DELL\\\\PythonCodes\\\\Test_file.txt\",'w',encoding='utf-8')\n",
    "f.write(\"This is the test file\\n\")\n",
    "f.write(\"Appeding the second line of input\\n\")\n",
    "f.close()"
   ]
  },
  {
   "cell_type": "code",
   "execution_count": 29,
   "metadata": {},
   "outputs": [
    {
     "name": "stdout",
     "output_type": "stream",
     "text": [
      "This is the test file\n",
      "Appeding the second line of input\n",
      "\n"
     ]
    }
   ],
   "source": [
    "f1=open (r\"C:\\\\Users\\\\DELL\\\\PythonCodes\\\\Test_file.txt\")\n",
    "print(f1.read())\n",
    "f1.close()"
   ]
  },
  {
   "cell_type": "code",
   "execution_count": 34,
   "metadata": {},
   "outputs": [
    {
     "name": "stdout",
     "output_type": "stream",
     "text": [
      "This \n",
      "is the tes\n"
     ]
    },
    {
     "data": {
      "text/plain": [
       "15"
      ]
     },
     "execution_count": 34,
     "metadata": {},
     "output_type": "execute_result"
    }
   ],
   "source": [
    "f1=open (r\"C:\\\\Users\\\\DELL\\\\PythonCodes\\\\Test_file.txt\")\n",
    "print(f1.read(5))                    # this will read the first 4 characters from file\n",
    "print(f1.read(10))                   # this will read the next 10 chars from file. \n",
    "\n",
    "                    # if we don't close the file then file mechanism will keep the track of last read character cursor and \n",
    "                    # next time it will start from that point.\n",
    "\n",
    "\n",
    "f1.tell()          # this is used to print the current curson position\n",
    "##f1.close()"
   ]
  },
  {
   "cell_type": "code",
   "execution_count": 36,
   "metadata": {},
   "outputs": [
    {
     "data": {
      "text/plain": [
       "0"
      ]
     },
     "execution_count": 36,
     "metadata": {},
     "output_type": "execute_result"
    }
   ],
   "source": [
    "f1.seek(0)       # this is used to get the cursor to the initial/start position in file\n"
   ]
  },
  {
   "cell_type": "markdown",
   "metadata": {},
   "source": [
    "###  tell() method tells the current position of cursor in terms of number of bytes,\n",
    "file shouldn't be closed before doing this.\n"
   ]
  },
  {
   "cell_type": "code",
   "execution_count": 38,
   "metadata": {},
   "outputs": [
    {
     "data": {
      "text/plain": [
       "'This is the test file\\nAppeding the second line of input\\n'"
      ]
     },
     "execution_count": 38,
     "metadata": {},
     "output_type": "execute_result"
    }
   ],
   "source": [
    "f1.tell()       \n",
    "\n",
    "f1.read()        # read the complete file"
   ]
  },
  {
   "cell_type": "markdown",
   "metadata": {},
   "source": [
    "### We can read the file line-by-line using for loop"
   ]
  },
  {
   "cell_type": "code",
   "execution_count": 39,
   "metadata": {},
   "outputs": [
    {
     "name": "stdout",
     "output_type": "stream",
     "text": [
      "This is the test file\n",
      "\n",
      "Appeding the second line of input\n",
      "\n"
     ]
    }
   ],
   "source": [
    "f1.seek(0)\n",
    "for line in f1:\n",
    "    print(line)\n",
    "\n",
    "    "
   ]
  },
  {
   "cell_type": "code",
   "execution_count": 44,
   "metadata": {},
   "outputs": [
    {
     "name": "stdout",
     "output_type": "stream",
     "text": [
      "[]\n"
     ]
    }
   ],
   "source": [
    "f1.seek(0)\n",
    "f1.readlines()   # returns all the lines from current cursor position\n",
    "\n",
    "f1.readline()   # returns only one line from current cursor position\n",
    "\n",
    "print(f1.readlines())   # this removes the new line character add a new line"
   ]
  },
  {
   "cell_type": "code",
   "execution_count": 55,
   "metadata": {},
   "outputs": [
    {
     "ename": "ValueError",
     "evalue": "I/O operation on closed file.",
     "output_type": "error",
     "traceback": [
      "\u001b[1;31m---------------------------------------------------------------------------\u001b[0m",
      "\u001b[1;31mValueError\u001b[0m                                Traceback (most recent call last)",
      "\u001b[1;32m<ipython-input-55-fc32c8c05155>\u001b[0m in \u001b[0;36m<module>\u001b[1;34m\u001b[0m\n\u001b[1;32m----> 1\u001b[1;33m \u001b[0mf1\u001b[0m\u001b[1;33m.\u001b[0m\u001b[0mseek\u001b[0m\u001b[1;33m(\u001b[0m\u001b[1;36m0\u001b[0m\u001b[1;33m)\u001b[0m\u001b[1;33m\u001b[0m\u001b[1;33m\u001b[0m\u001b[0m\n\u001b[0m\u001b[0;32m      2\u001b[0m \u001b[0mf1\u001b[0m\u001b[1;33m.\u001b[0m\u001b[0mreadline\u001b[0m\u001b[1;33m(\u001b[0m\u001b[1;33m)\u001b[0m   \u001b[1;31m# returns only one line from current cursor position\u001b[0m\u001b[1;33m\u001b[0m\u001b[1;33m\u001b[0m\u001b[0m\n\u001b[0;32m      3\u001b[0m \u001b[0mf1\u001b[0m\u001b[1;33m.\u001b[0m\u001b[0mclose\u001b[0m\u001b[1;33m(\u001b[0m\u001b[1;33m)\u001b[0m\u001b[1;33m\u001b[0m\u001b[1;33m\u001b[0m\u001b[0m\n",
      "\u001b[1;31mValueError\u001b[0m: I/O operation on closed file."
     ]
    }
   ],
   "source": [
    "f1.seek(0)\n",
    "f1.readline()   # returns only one line from current cursor position\n",
    "f1.close()"
   ]
  },
  {
   "cell_type": "markdown",
   "metadata": {},
   "source": [
    "### rename a file and files in python"
   ]
  },
  {
   "cell_type": "code",
   "execution_count": 58,
   "metadata": {},
   "outputs": [],
   "source": [
    "import os   # file handling module\n",
    "\n",
    "os.rename(\"C:\\\\Users\\\\DELL\\\\PythonCodes\\\\Test_file-Copy1.txt\",\"C:\\\\Users\\\\DELL\\\\PythonCodes\\\\Test_file_new.txt\")"
   ]
  },
  {
   "cell_type": "code",
   "execution_count": 60,
   "metadata": {},
   "outputs": [],
   "source": [
    "os.remove(\"C:\\\\Users\\\\DELL\\\\PythonCodes\\\\Test_file_new.txt\")"
   ]
  },
  {
   "cell_type": "markdown",
   "metadata": {},
   "source": [
    "### directory"
   ]
  },
  {
   "cell_type": "code",
   "execution_count": 61,
   "metadata": {},
   "outputs": [
    {
     "data": {
      "text/plain": [
       "'C:\\\\Users\\\\DELL\\\\PythonCodes'"
      ]
     },
     "execution_count": 61,
     "metadata": {},
     "output_type": "execute_result"
    }
   ],
   "source": [
    "os.getcwd()        # this is used to get the current directory"
   ]
  },
  {
   "cell_type": "code",
   "execution_count": 62,
   "metadata": {},
   "outputs": [],
   "source": [
    "### change the directory\n",
    "\n",
    "os.chdir(\"C:/Users/DELL/\")               # either use double backslash (\\\\) or single forward slash (/)"
   ]
  },
  {
   "cell_type": "code",
   "execution_count": 63,
   "metadata": {},
   "outputs": [
    {
     "data": {
      "text/plain": [
       "'C:\\\\Users\\\\DELL'"
      ]
     },
     "execution_count": 63,
     "metadata": {},
     "output_type": "execute_result"
    }
   ],
   "source": [
    "os.getcwd()"
   ]
  },
  {
   "cell_type": "code",
   "execution_count": 66,
   "metadata": {},
   "outputs": [
    {
     "data": {
      "text/plain": [
       "['.ipynb_checkpoints',\n",
       " 'Basic Assignment_24 Aug.ipynb',\n",
       " 'Dictionary Operations.ipynb',\n",
       " 'File Handling.ipynb',\n",
       " 'Functions in Python.ipynb',\n",
       " 'Functions.ipynb',\n",
       " 'List Datatype - Operations.ipynb',\n",
       " 'Python Control Flows & Loops.ipynb',\n",
       " 'Python_Operators.ipynb',\n",
       " 'Py_IO Formating.ipynb',\n",
       " 'Set Operations.ipynb',\n",
       " 'String Operations.ipynb',\n",
       " 'Test_file.txt',\n",
       " 'Tuples in Detail-Operations.ipynb']"
      ]
     },
     "execution_count": 66,
     "metadata": {},
     "output_type": "execute_result"
    }
   ],
   "source": [
    "os.chdir(\"C:/Users/DELL/PythonCodes/\")\n",
    "\n",
    "### listdir() method to list out all the files and directories inside a folder\n",
    "\n",
    "os.listdir(os.getcwd())"
   ]
  },
  {
   "cell_type": "markdown",
   "metadata": {},
   "source": [
    "### make a new directory --- mkdir()"
   ]
  },
  {
   "cell_type": "code",
   "execution_count": 69,
   "metadata": {},
   "outputs": [
    {
     "data": {
      "text/plain": [
       "['.ipynb_checkpoints',\n",
       " 'Basic Assignment_24 Aug.ipynb',\n",
       " 'Dictionary Operations.ipynb',\n",
       " 'DummyFolder1',\n",
       " 'DummyFolder2',\n",
       " 'DummyFolder3',\n",
       " 'File Handling.ipynb',\n",
       " 'Functions in Python.ipynb',\n",
       " 'Functions.ipynb',\n",
       " 'List Datatype - Operations.ipynb',\n",
       " 'Python Control Flows & Loops.ipynb',\n",
       " 'Python_Operators.ipynb',\n",
       " 'Py_IO Formating.ipynb',\n",
       " 'Set Operations.ipynb',\n",
       " 'String Operations.ipynb',\n",
       " 'Test_file.txt',\n",
       " 'Tuples in Detail-Operations.ipynb']"
      ]
     },
     "execution_count": 69,
     "metadata": {},
     "output_type": "execute_result"
    }
   ],
   "source": [
    "os.mkdir('DummyFolder3')\n",
    "os.listdir(os.getcwd())"
   ]
  },
  {
   "cell_type": "code",
   "execution_count": 70,
   "metadata": {},
   "outputs": [],
   "source": [
    "os.rmdir(\"DummyFolder3\")       # to remove or delete the empty directories only"
   ]
  },
  {
   "cell_type": "code",
   "execution_count": null,
   "metadata": {},
   "outputs": [],
   "source": [
    "# for non- empty file deletion use rmtree()"
   ]
  }
 ],
 "metadata": {
  "kernelspec": {
   "display_name": "Python 3",
   "language": "python",
   "name": "python3"
  },
  "language_info": {
   "codemirror_mode": {
    "name": "ipython",
    "version": 3
   },
   "file_extension": ".py",
   "mimetype": "text/x-python",
   "name": "python",
   "nbconvert_exporter": "python",
   "pygments_lexer": "ipython3",
   "version": "3.7.3"
  }
 },
 "nbformat": 4,
 "nbformat_minor": 2
}
