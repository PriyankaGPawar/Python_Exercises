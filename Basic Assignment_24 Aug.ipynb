{
 "cells": [
  {
   "cell_type": "code",
   "execution_count": null,
   "metadata": {},
   "outputs": [],
   "source": [
    "# convert string into list\n",
    "print(list('Priyanka\\'s'))"
   ]
  },
  {
   "cell_type": "code",
   "execution_count": 49,
   "metadata": {},
   "outputs": [
    {
     "data": {
      "text/plain": [
       "\"Priyanka's\""
      ]
     },
     "execution_count": 49,
     "metadata": {},
     "output_type": "execute_result"
    }
   ],
   "source": [
    "# join characters of a list. So pass a complete list\n",
    "\n",
    "''.join(['P', 'r', 'i', 'y', 'a', 'n', 'k', 'a', \"'\", 's'])"
   ]
  },
  {
   "cell_type": "code",
   "execution_count": null,
   "metadata": {},
   "outputs": [],
   "source": [
    "# Assign different data types to a variables"
   ]
  },
  {
   "cell_type": "code",
   "execution_count": 1,
   "metadata": {},
   "outputs": [
    {
     "name": "stdout",
     "output_type": "stream",
     "text": [
      "['A', 'u', 's', 't', 'r', 'a', 'l', 'i', 'a']\n",
      "('s', 't', 'r', 'a', 'l')\n",
      "{'i', 'r', 'u', 'l', 't', 's', 'a', 'A'}\n"
     ]
    }
   ],
   "source": [
    "# convert a continuous string into a list\n",
    "str1 ='Australia'\n",
    "l1 = list(str1)\n",
    "print(l1)\n",
    "\n",
    "tuple1 = tuple(str1)\n",
    "print(tuple1[2:7])\n",
    "\n",
    "set1=set(str1)\n",
    "print(set1)"
   ]
  },
  {
   "cell_type": "code",
   "execution_count": 50,
   "metadata": {},
   "outputs": [
    {
     "name": "stdout",
     "output_type": "stream",
     "text": [
      "Printing with + operator : Priya has 3 Mercedes.\n",
      "Printing with , operator :  Priya has 3 Mercedes.\n"
     ]
    }
   ],
   "source": [
    "name='Priya'\n",
    "cars1=3\n",
    "print('Printing with + operator : '+ name + ' has '+ str(cars1)+ ' Mercedes.')\n",
    "\n",
    "print('Printing with , operator : ',name , 'has', str(cars1), 'Mercedes.')"
   ]
  },
  {
   "cell_type": "code",
   "execution_count": 64,
   "metadata": {},
   "outputs": [
    {
     "name": "stdout",
     "output_type": "stream",
     "text": [
      "Input the number :10\n"
     ]
    },
    {
     "data": {
      "text/plain": [
       "15.0"
      ]
     },
     "execution_count": 64,
     "metadata": {},
     "output_type": "execute_result"
    }
   ],
   "source": [
    "inputString=input(\"Input the number :\")\n",
    "5+float(inputString)"
   ]
  },
  {
   "cell_type": "code",
   "execution_count": 12,
   "metadata": {},
   "outputs": [
    {
     "name": "stdout",
     "output_type": "stream",
     "text": [
      "{'1':'Morning','2':'Noon','3':'Evening'}\n",
      "<class 'str'>\n",
      "{'1': 'Morning', '2': 'Noon', '3': 'Evening'}\n",
      "<class 'dict'>\n"
     ]
    }
   ],
   "source": [
    "#convert to dictionary\n",
    "string1 =\"{'1':'Morning','2':'Noon','3':'Evening'}\"\n",
    "\n",
    "print(string1)\n",
    "print(type(string1))\n",
    "\n",
    "dict1=eval(string1)\n",
    "print(dict1)\n",
    "print(type(dict1))\n",
    "#dict"
   ]
  },
  {
   "cell_type": "code",
   "execution_count": 9,
   "metadata": {},
   "outputs": [
    {
     "name": "stdout",
     "output_type": "stream",
     "text": [
      "{'A': 13, 'B': 14, 'C': 15}\n",
      "{1: 'Morning', 2: 'Noon', 3: 'Evening'}\n"
     ]
    }
   ],
   "source": [
    "string = \"{'A':13, 'B':14, 'C':15}\"\n",
    "\n",
    "string1 = \"{1: 'Morning', 2: 'Noon', 3: 'Evening'}\"\n",
    "\n",
    "# eval() convert string to dictionary\n",
    "\n",
    "dict1 = eval(string)\n",
    "dict2 = eval(string1)\n",
    "print(dict1)\n",
    "print(dict2)"
   ]
  },
  {
   "cell_type": "code",
   "execution_count": null,
   "metadata": {},
   "outputs": [],
   "source": [
    "dict1 = {'taras': 'vaskiv', 'iruna': 'vaskiv'}\n",
    "str1 = str(dict1)\n",
    "print(type(str1))\n",
    "\n",
    "dict2 = eval(str1)\n",
    "dict2\n",
    "print(dict2)\n",
    "print(type(dict2))"
   ]
  },
  {
   "cell_type": "code",
   "execution_count": null,
   "metadata": {},
   "outputs": [],
   "source": [
    "tuple1 = (1,2,3,10,20,30,4,5)\n",
    "tuple2 = (1,2,3,[10,20,30],4,5)\n",
    "\n",
    "print(tuple1)\n",
    "print(type(tuple1))\n",
    "\n",
    "print(tuple2)\n",
    "print(id(tuple2))"
   ]
  },
  {
   "cell_type": "code",
   "execution_count": null,
   "metadata": {},
   "outputs": [],
   "source": [
    "tuple1 = (1,2,3,10,20,30,4,5)\n",
    "tuple2 = ('python','data')\n",
    "\n",
    "tuple3=(tuple1,tuple2)        # joining two tuples\n",
    "print(\"tuple1 :\",tuple1)\n",
    "print(type(tuple1))\n",
    "print(id(tuple1))\n",
    "\n",
    "print(\"tuple2 :\",tuple2)\n",
    "print(id(tuple2))\n",
    "\n",
    "print(\"tuple3 :\",tuple3)     \n",
    "print(id(tuple3))\n",
    "\n",
    "tuple4=tuple1+tuple2           # concatenation of tuples\n",
    "print(\"tuple4 :\",tuple4)\n",
    "print(id(tuple4))\n"
   ]
  },
  {
   "cell_type": "code",
   "execution_count": null,
   "metadata": {},
   "outputs": [],
   "source": []
  },
  {
   "cell_type": "markdown",
   "metadata": {},
   "source": [
    "### Dictionary"
   ]
  },
  {
   "cell_type": "code",
   "execution_count": 45,
   "metadata": {},
   "outputs": [
    {
     "name": "stdout",
     "output_type": "stream",
     "text": [
      "{1: [10, 20], 2: {'a': 10, 'b': 20}, 3: {10, 30}, 4: 40, 5: 50}\n",
      "<class 'dict'>\n",
      "d : 86507096\n",
      "e : 86507096\n",
      "f : 86678840\n"
     ]
    }
   ],
   "source": [
    "d= {1:[10,20],2:{'a':10,'b':20}, 3: {10,30}, 4:40, 5:50  }\n",
    "print(d)\n",
    "print(type(d))\n",
    "\n",
    "e=d          # deep copy. e is pinting to d, so changes in d are reflected in e\n",
    "f=d.copy()   # this is copying data so any changes to parent d wont change f\n",
    "\n",
    "print('d :',id(d))\n",
    "print('e :',id(e))\n",
    "print('f :',id(f))\n"
   ]
  },
  {
   "cell_type": "code",
   "execution_count": null,
   "metadata": {},
   "outputs": [],
   "source": [
    "5 in d      # check if articular key is present in dictionary"
   ]
  },
  {
   "cell_type": "code",
   "execution_count": null,
   "metadata": {},
   "outputs": [],
   "source": [
    "myset=d.get(3)     #extract the data at 3rd index of dict"
   ]
  },
  {
   "cell_type": "code",
   "execution_count": null,
   "metadata": {},
   "outputs": [],
   "source": [
    "myset.pop()      # remove the elements"
   ]
  },
  {
   "cell_type": "code",
   "execution_count": null,
   "metadata": {},
   "outputs": [],
   "source": [
    "d\n",
    "e"
   ]
  },
  {
   "cell_type": "markdown",
   "metadata": {},
   "source": [
    "### reversing a string"
   ]
  },
  {
   "cell_type": "code",
   "execution_count": 48,
   "metadata": {},
   "outputs": [
    {
     "data": {
      "text/plain": [
       "[4]"
      ]
     },
     "execution_count": 48,
     "metadata": {},
     "output_type": "execute_result"
    }
   ],
   "source": [
    "[1,2,3,4][-1:]"
   ]
  },
  {
   "cell_type": "code",
   "execution_count": 46,
   "metadata": {},
   "outputs": [
    {
     "data": {
      "text/plain": [
       "'ayirP'"
      ]
     },
     "execution_count": 46,
     "metadata": {},
     "output_type": "execute_result"
    }
   ],
   "source": [
    "'Priya'[::-1]      # reverses a string"
   ]
  },
  {
   "cell_type": "code",
   "execution_count": 47,
   "metadata": {},
   "outputs": [
    {
     "data": {
      "text/plain": [
       "'a'"
      ]
     },
     "execution_count": 47,
     "metadata": {},
     "output_type": "execute_result"
    }
   ],
   "source": [
    "'Priya'[-1] "
   ]
  },
  {
   "cell_type": "markdown",
   "metadata": {},
   "source": [
    "### if else clauses"
   ]
  },
  {
   "cell_type": "code",
   "execution_count": 70,
   "metadata": {},
   "outputs": [
    {
     "name": "stdout",
     "output_type": "stream",
     "text": [
      "Your balance is :$6540\n"
     ]
    }
   ],
   "source": [
    "balance = 6540\n",
    "if balance < 0:\n",
    "    print(\"Insufficient Balance\")\n",
    "elif balance >=0 :\n",
    "    print(\"Your balance is :\"+'$'+str(balance))\n",
    "else:\n",
    "    print(\"thank you\")"
   ]
  },
  {
   "cell_type": "code",
   "execution_count": 8,
   "metadata": {},
   "outputs": [
    {
     "name": "stdout",
     "output_type": "stream",
     "text": [
      "20\n"
     ]
    }
   ],
   "source": [
    "def sum(numbers):\n",
    "    total = 0\n",
    "    for number in numbers:\n",
    "        total += number\n",
    "    return total\n",
    "print(sum([8, 2, 3, 0, 7]))\n"
   ]
  }
 ],
 "metadata": {
  "kernelspec": {
   "display_name": "Python 3",
   "language": "python",
   "name": "python3"
  },
  "language_info": {
   "codemirror_mode": {
    "name": "ipython",
    "version": 3
   },
   "file_extension": ".py",
   "mimetype": "text/x-python",
   "name": "python",
   "nbconvert_exporter": "python",
   "pygments_lexer": "ipython3",
   "version": "3.7.3"
  }
 },
 "nbformat": 4,
 "nbformat_minor": 2
}
