{
  "nbformat": 4,
  "nbformat_minor": 0,
  "metadata": {
    "kernelspec": {
      "display_name": "Python 3",
      "language": "python",
      "name": "python3"
    },
    "language_info": {
      "codemirror_mode": {
        "name": "ipython",
        "version": 3
      },
      "file_extension": ".py",
      "mimetype": "text/x-python",
      "name": "python",
      "nbconvert_exporter": "python",
      "pygments_lexer": "ipython3",
      "version": "3.7.3"
    },
    "colab": {
      "name": "Basic Assignment_24 Aug.ipynb",
      "provenance": [],
      "include_colab_link": true
    }
  },
  "cells": [
    {
      "cell_type": "markdown",
      "metadata": {
        "id": "view-in-github",
        "colab_type": "text"
      },
      "source": [
        "<a href=\"https://colab.research.google.com/github/PriyankaGPawar/Python_Exercises/blob/master/Basic_Assignment_24_Aug.ipynb\" target=\"_parent\"><img src=\"https://colab.research.google.com/assets/colab-badge.svg\" alt=\"Open In Colab\"/></a>"
      ]
    },
    {
      "cell_type": "code",
      "metadata": {
        "id": "7pHCfNrgCfYC",
        "colab_type": "code",
        "colab": {}
      },
      "source": [
        "# convert string into list\n",
        "print(list('Priyanka\\'s'))"
      ],
      "execution_count": 0,
      "outputs": []
    },
    {
      "cell_type": "code",
      "metadata": {
        "id": "hdZ6bm9ACfYU",
        "colab_type": "code",
        "colab": {},
        "outputId": "e4db6aed-9242-4145-c553-e9b1fcc177aa"
      },
      "source": [
        "# join characters of a list. So pass a complete list\n",
        "\n",
        "''.join(['P', 'r', 'i', 'y', 'a', 'n', 'k', 'a', \"'\", 's'])"
      ],
      "execution_count": 0,
      "outputs": [
        {
          "output_type": "execute_result",
          "data": {
            "text/plain": [
              "\"Priyanka's\""
            ]
          },
          "metadata": {
            "tags": []
          },
          "execution_count": 49
        }
      ]
    },
    {
      "cell_type": "code",
      "metadata": {
        "id": "KbwwgAz5CfYl",
        "colab_type": "code",
        "colab": {}
      },
      "source": [
        "# Assign different data types to a variables"
      ],
      "execution_count": 0,
      "outputs": []
    },
    {
      "cell_type": "code",
      "metadata": {
        "id": "ooulOZ-NCfYy",
        "colab_type": "code",
        "colab": {},
        "outputId": "e4e1c6a4-1661-47f8-b281-c9bd96504395"
      },
      "source": [
        "# convert a continuous string into a list\n",
        "str1 ='Australia'\n",
        "l1 = list(str1)\n",
        "print(l1)\n",
        "\n",
        "tuple1 = tuple(str1)\n",
        "print(tuple1[2:7])\n",
        "\n",
        "set1=set(str1)\n",
        "print(set1)"
      ],
      "execution_count": 0,
      "outputs": [
        {
          "output_type": "stream",
          "text": [
            "['A', 'u', 's', 't', 'r', 'a', 'l', 'i', 'a']\n",
            "('s', 't', 'r', 'a', 'l')\n",
            "{'i', 'r', 'u', 'l', 't', 's', 'a', 'A'}\n"
          ],
          "name": "stdout"
        }
      ]
    },
    {
      "cell_type": "code",
      "metadata": {
        "id": "3GM62kZECfY-",
        "colab_type": "code",
        "colab": {},
        "outputId": "8676b5e6-275d-4224-8fa4-837aaf2638a6"
      },
      "source": [
        "name='Priya'\n",
        "cars1=3\n",
        "print('Printing with + operator : '+ name + ' has '+ str(cars1)+ ' Mercedes.')\n",
        "\n",
        "print('Printing with , operator : ',name , 'has', str(cars1), 'Mercedes.')"
      ],
      "execution_count": 0,
      "outputs": [
        {
          "output_type": "stream",
          "text": [
            "Printing with + operator : Priya has 3 Mercedes.\n",
            "Printing with , operator :  Priya has 3 Mercedes.\n"
          ],
          "name": "stdout"
        }
      ]
    },
    {
      "cell_type": "code",
      "metadata": {
        "id": "YqS5q6jTCfZK",
        "colab_type": "code",
        "colab": {},
        "outputId": "d0971524-57c6-4dc4-f17a-f5ff89c4e32f"
      },
      "source": [
        "inputString=input(\"Input the number :\")\n",
        "5+float(inputString)"
      ],
      "execution_count": 0,
      "outputs": [
        {
          "output_type": "stream",
          "text": [
            "Input the number :10\n"
          ],
          "name": "stdout"
        },
        {
          "output_type": "execute_result",
          "data": {
            "text/plain": [
              "15.0"
            ]
          },
          "metadata": {
            "tags": []
          },
          "execution_count": 64
        }
      ]
    },
    {
      "cell_type": "code",
      "metadata": {
        "id": "QxiNqykNCfZY",
        "colab_type": "code",
        "colab": {},
        "outputId": "072c4308-402c-4740-e2c0-e928a398e1aa"
      },
      "source": [
        "#convert to dictionary\n",
        "string1 =\"{'1':'Morning','2':'Noon','3':'Evening'}\"\n",
        "\n",
        "print(string1)\n",
        "print(type(string1))\n",
        "\n",
        "dict1=eval(string1)\n",
        "print(dict1)\n",
        "print(type(dict1))\n",
        "#dict"
      ],
      "execution_count": 0,
      "outputs": [
        {
          "output_type": "stream",
          "text": [
            "{'1':'Morning','2':'Noon','3':'Evening'}\n",
            "<class 'str'>\n",
            "{'1': 'Morning', '2': 'Noon', '3': 'Evening'}\n",
            "<class 'dict'>\n"
          ],
          "name": "stdout"
        }
      ]
    },
    {
      "cell_type": "code",
      "metadata": {
        "id": "2N1J5uPuCfZn",
        "colab_type": "code",
        "colab": {},
        "outputId": "428d5ebe-53a7-45e8-bb02-ba14c05cafb1"
      },
      "source": [
        "string = \"{'A':13, 'B':14, 'C':15}\"\n",
        "\n",
        "string1 = \"{1: 'Morning', 2: 'Noon', 3: 'Evening'}\"\n",
        "\n",
        "# eval() convert string to dictionary\n",
        "\n",
        "dict1 = eval(string)\n",
        "dict2 = eval(string1)\n",
        "print(dict1)\n",
        "print(dict2)"
      ],
      "execution_count": 0,
      "outputs": [
        {
          "output_type": "stream",
          "text": [
            "{'A': 13, 'B': 14, 'C': 15}\n",
            "{1: 'Morning', 2: 'Noon', 3: 'Evening'}\n"
          ],
          "name": "stdout"
        }
      ]
    },
    {
      "cell_type": "code",
      "metadata": {
        "id": "oIXONq5qCfZy",
        "colab_type": "code",
        "colab": {}
      },
      "source": [
        "dict1 = {'taras': 'vaskiv', 'iruna': 'vaskiv'}\n",
        "str1 = str(dict1)\n",
        "print(type(str1))\n",
        "\n",
        "dict2 = eval(str1)\n",
        "dict2\n",
        "print(dict2)\n",
        "print(type(dict2))"
      ],
      "execution_count": 0,
      "outputs": []
    },
    {
      "cell_type": "code",
      "metadata": {
        "id": "cGE7WvUTCfZ8",
        "colab_type": "code",
        "colab": {}
      },
      "source": [
        "tuple1 = (1,2,3,10,20,30,4,5)\n",
        "tuple2 = (1,2,3,[10,20,30],4,5)\n",
        "\n",
        "print(tuple1)\n",
        "print(type(tuple1))\n",
        "\n",
        "print(tuple2)\n",
        "print(id(tuple2))"
      ],
      "execution_count": 0,
      "outputs": []
    },
    {
      "cell_type": "code",
      "metadata": {
        "id": "UW75ZCbACfaH",
        "colab_type": "code",
        "colab": {}
      },
      "source": [
        "tuple1 = (1,2,3,10,20,30,4,5)\n",
        "tuple2 = ('python','data')\n",
        "\n",
        "tuple3=(tuple1,tuple2)        # joining two tuples\n",
        "print(\"tuple1 :\",tuple1)\n",
        "print(type(tuple1))\n",
        "print(id(tuple1))\n",
        "\n",
        "print(\"tuple2 :\",tuple2)\n",
        "print(id(tuple2))\n",
        "\n",
        "print(\"tuple3 :\",tuple3)     \n",
        "print(id(tuple3))\n",
        "\n",
        "tuple4=tuple1+tuple2           # concatenation of tuples\n",
        "print(\"tuple4 :\",tuple4)\n",
        "print(id(tuple4))\n"
      ],
      "execution_count": 0,
      "outputs": []
    },
    {
      "cell_type": "code",
      "metadata": {
        "id": "jb1ze4cDCfaR",
        "colab_type": "code",
        "colab": {}
      },
      "source": [
        ""
      ],
      "execution_count": 0,
      "outputs": []
    },
    {
      "cell_type": "markdown",
      "metadata": {
        "id": "Us0-4v_FCfab",
        "colab_type": "text"
      },
      "source": [
        "### Dictionary"
      ]
    },
    {
      "cell_type": "code",
      "metadata": {
        "id": "Em_O467RCfae",
        "colab_type": "code",
        "colab": {},
        "outputId": "7f7ea906-a274-44e3-eb04-f233c8c3c26b"
      },
      "source": [
        "d= {1:[10,20],2:{'a':10,'b':20}, 3: {10,30}, 4:40, 5:50  }\n",
        "print(d)\n",
        "print(type(d))\n",
        "\n",
        "e=d          # deep copy. e is pinting to d, so changes in d are reflected in e\n",
        "f=d.copy()   # this is copying data so any changes to parent d wont change f\n",
        "\n",
        "print('d :',id(d))\n",
        "print('e :',id(e))\n",
        "print('f :',id(f))\n"
      ],
      "execution_count": 0,
      "outputs": [
        {
          "output_type": "stream",
          "text": [
            "{1: [10, 20], 2: {'a': 10, 'b': 20}, 3: {10, 30}, 4: 40, 5: 50}\n",
            "<class 'dict'>\n",
            "d : 86507096\n",
            "e : 86507096\n",
            "f : 86678840\n"
          ],
          "name": "stdout"
        }
      ]
    },
    {
      "cell_type": "code",
      "metadata": {
        "id": "C3NwfXohCfap",
        "colab_type": "code",
        "colab": {}
      },
      "source": [
        "5 in d      # check if articular key is present in dictionary"
      ],
      "execution_count": 0,
      "outputs": []
    },
    {
      "cell_type": "code",
      "metadata": {
        "id": "nv-dbc7WCfa1",
        "colab_type": "code",
        "colab": {}
      },
      "source": [
        "myset=d.get(3)     #extract the data at 3rd index of dict"
      ],
      "execution_count": 0,
      "outputs": []
    },
    {
      "cell_type": "code",
      "metadata": {
        "id": "XTZh7Ky_CfbD",
        "colab_type": "code",
        "colab": {}
      },
      "source": [
        "myset.pop()      # remove the elements"
      ],
      "execution_count": 0,
      "outputs": []
    },
    {
      "cell_type": "code",
      "metadata": {
        "id": "G3efDPVLCfbO",
        "colab_type": "code",
        "colab": {}
      },
      "source": [
        "d\n",
        "e"
      ],
      "execution_count": 0,
      "outputs": []
    },
    {
      "cell_type": "markdown",
      "metadata": {
        "id": "0zN4wtETCfbY",
        "colab_type": "text"
      },
      "source": [
        "### reversing a string"
      ]
    },
    {
      "cell_type": "code",
      "metadata": {
        "id": "DRAqPyZECfbb",
        "colab_type": "code",
        "colab": {},
        "outputId": "04cb7acf-15a9-4a6a-c0d4-a26ac2a74ca8"
      },
      "source": [
        "[1,2,3,4][-1:]"
      ],
      "execution_count": 0,
      "outputs": [
        {
          "output_type": "execute_result",
          "data": {
            "text/plain": [
              "[4]"
            ]
          },
          "metadata": {
            "tags": []
          },
          "execution_count": 48
        }
      ]
    },
    {
      "cell_type": "code",
      "metadata": {
        "id": "C_2LQCnYCfbl",
        "colab_type": "code",
        "colab": {},
        "outputId": "ad6cfa63-1f26-4078-e0b2-16796f6d21aa"
      },
      "source": [
        "'Priya'[::-1]      # reverses a string"
      ],
      "execution_count": 0,
      "outputs": [
        {
          "output_type": "execute_result",
          "data": {
            "text/plain": [
              "'ayirP'"
            ]
          },
          "metadata": {
            "tags": []
          },
          "execution_count": 46
        }
      ]
    },
    {
      "cell_type": "code",
      "metadata": {
        "id": "t90SADhnCfbx",
        "colab_type": "code",
        "colab": {},
        "outputId": "336b1c8e-ee94-47d7-936d-fe8f0df4361f"
      },
      "source": [
        "'Priya'[-1] "
      ],
      "execution_count": 0,
      "outputs": [
        {
          "output_type": "execute_result",
          "data": {
            "text/plain": [
              "'a'"
            ]
          },
          "metadata": {
            "tags": []
          },
          "execution_count": 47
        }
      ]
    },
    {
      "cell_type": "markdown",
      "metadata": {
        "id": "LP-Q4UEFCfcA",
        "colab_type": "text"
      },
      "source": [
        "### if else clauses"
      ]
    },
    {
      "cell_type": "code",
      "metadata": {
        "id": "qvGGKsh4CfcE",
        "colab_type": "code",
        "colab": {},
        "outputId": "2a560aba-b8ee-4eb2-e3a9-7768aef94aea"
      },
      "source": [
        "balance = 6540\n",
        "if balance < 0:\n",
        "    print(\"Insufficient Balance\")\n",
        "elif balance >=0 :\n",
        "    print(\"Your balance is :\"+'$'+str(balance))\n",
        "else:\n",
        "    print(\"thank you\")"
      ],
      "execution_count": 0,
      "outputs": [
        {
          "output_type": "stream",
          "text": [
            "Your balance is :$6540\n"
          ],
          "name": "stdout"
        }
      ]
    },
    {
      "cell_type": "code",
      "metadata": {
        "id": "EVw611miCfcY",
        "colab_type": "code",
        "colab": {},
        "outputId": "df8b9e67-c75f-4c1a-9928-80e034fd4538"
      },
      "source": [
        "def sum(numbers):\n",
        "    total = 0\n",
        "    for number in numbers:\n",
        "        total += number\n",
        "    return total\n",
        "print(sum([8, 2, 3, 0, 7]))\n"
      ],
      "execution_count": 0,
      "outputs": [
        {
          "output_type": "stream",
          "text": [
            "20\n"
          ],
          "name": "stdout"
        }
      ]
    }
  ]
}