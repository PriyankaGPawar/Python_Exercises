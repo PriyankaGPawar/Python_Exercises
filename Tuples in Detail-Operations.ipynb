{
 "cells": [
  {
   "cell_type": "markdown",
   "metadata": {},
   "source": [
    "### tuple operations"
   ]
  },
  {
   "cell_type": "code",
   "execution_count": null,
   "metadata": {},
   "outputs": [],
   "source": [
    "# create empty tuple\n",
    "\n",
    "t1=()\n",
    "print(t1 ,' type :' ,type(t1))"
   ]
  },
  {
   "cell_type": "code",
   "execution_count": null,
   "metadata": {},
   "outputs": [],
   "source": [
    "t2= ('Priyanka')\n",
    "print(type(t2))\n",
    "\n",
    "#so to make it as tuple comma is important\n",
    "t3  = 'Priyanka',\n",
    "t4 = ('Priyanka',)\n",
    "print(type(t3))\n",
    "print(type(t4))"
   ]
  },
  {
   "cell_type": "markdown",
   "metadata": {},
   "source": [
    "### Tuple can be empty, can hold single type of data or multiple type of data like list , strings, integers etc"
   ]
  },
  {
   "cell_type": "code",
   "execution_count": null,
   "metadata": {},
   "outputs": [],
   "source": [
    "t5 = (1,2,3,'d','f','g',[4,5,6],10.5, 3+8j)   # tuple with multiple data type elements\n",
    "print('Tuple value is:',t5, \"And \", type(t5))\n",
    "\n",
    "nestedTuple = (1,2,3,'d','f',[5,6],10, (12,44,56))    # nested tuple so its a tuple inside a tuple\n",
    "print('Tuple value is:',nestedTuple, \"And \", type(nestedTuple))  "
   ]
  },
  {
   "cell_type": "markdown",
   "metadata": {},
   "source": [
    "### Accessing tuple elements"
   ]
  },
  {
   "cell_type": "code",
   "execution_count": null,
   "metadata": {},
   "outputs": [],
   "source": [
    "tuple1 = (10,20,30,40)\n",
    "print(tuple1[1])\n",
    "print(tuple1[-1])       # to print last element use negative indexes. last index is -1\n",
    "\n",
    "print(tuple1 [-2])"
   ]
  },
  {
   "cell_type": "markdown",
   "metadata": {},
   "source": [
    "### to access individual elements in the nested tuples\n",
    "treat this as a matrix to access the values\n"
   ]
  },
  {
   "cell_type": "code",
   "execution_count": null,
   "metadata": {},
   "outputs": [],
   "source": [
    "nestedTuple = (1,2,3,'d','f',[5,6],10, (12,44,56)) \n",
    "\n",
    "print(nestedTuple[7][1])\n",
    "print(nestedTuple[5][0])\n",
    "\n",
    "print(nestedTuple[-1::-2])   # traversing the tuple from last index with 2 skips/hops. so this will print each of those values\n",
    "                             # that are at located at two hops\n"
   ]
  },
  {
   "cell_type": "markdown",
   "metadata": {},
   "source": [
    "#### slicing of tuple elements"
   ]
  },
  {
   "cell_type": "code",
   "execution_count": null,
   "metadata": {},
   "outputs": [],
   "source": [
    "tuple6 = (10,20,30,40,50)\n",
    "print(tuple6[2:4])\n",
    "\n",
    "print(tuple6 [2:])  # print all from 2nd till end\n"
   ]
  },
  {
   "cell_type": "markdown",
   "metadata": {},
   "source": [
    "#### altering the values in tuple elements like list elements\n",
    "for ex- list is mutable so we can change the elements of the list"
   ]
  },
  {
   "cell_type": "code",
   "execution_count": null,
   "metadata": {},
   "outputs": [],
   "source": [
    "tuple7 = (10,20,30,40,50,[33,44,55])\n",
    "\n",
    "print(id(tuple7))\n",
    "tuple7[5][0]='MelB'   # elements of the list can be changed and tuple address remains same\n",
    "print(id(tuple7))     # tuples are immutable\n",
    "print(tuple7)"
   ]
  },
  {
   "cell_type": "markdown",
   "metadata": {},
   "source": [
    "#### concat two tuples"
   ]
  },
  {
   "cell_type": "code",
   "execution_count": null,
   "metadata": {},
   "outputs": [],
   "source": [
    "tuple1 = (1,2,3)+(4,5,6)   # direct merge  and hence 6 elements\n",
    "print(tuple1)\n",
    "print(tuple1[4])\n",
    "\n",
    "tuple2 = (1,2,3),(4,5,6)   # simple concat and hence 2 elements\n",
    "print(tuple2)\n",
    "print(tuple2[1])\n"
   ]
  },
  {
   "cell_type": "markdown",
   "metadata": {},
   "source": [
    "#### Repeating elements  -- use * operator and a number"
   ]
  },
  {
   "cell_type": "code",
   "execution_count": 1,
   "metadata": {},
   "outputs": [
    {
     "name": "stdout",
     "output_type": "stream",
     "text": [
      "('I earn 1.2 lakh dollar a year', 'I earn 1.2 lakh dollar a year', 'I earn 1.2 lakh dollar a year', 'I earn 1.2 lakh dollar a year', 'I earn 1.2 lakh dollar a year')\n"
     ]
    }
   ],
   "source": [
    "myT1 = (\"I earn 1.2 lakh dollar a year\",) * 5\n",
    "print(myT1)"
   ]
  },
  {
   "cell_type": "markdown",
   "metadata": {},
   "source": [
    "### Deleting from a tuple-- since the tuple is immutable, the entire tuple needs to be deleted."
   ]
  },
  {
   "cell_type": "code",
   "execution_count": null,
   "metadata": {},
   "outputs": [],
   "source": [
    "myT1  = (1, 2, 3, 4, 5, 6)\n",
    "\n",
    "del myT1\n",
    "print(myT1)   # as tuple doesn't exists hence it deletes the entire tuple"
   ]
  },
  {
   "cell_type": "markdown",
   "metadata": {},
   "source": [
    "### to count the frequency of element in the tuple"
   ]
  },
  {
   "cell_type": "code",
   "execution_count": null,
   "metadata": {},
   "outputs": [],
   "source": [
    "myT1  = (1, 2, 3, 4, 5, 6,5,3,7)\n",
    "print(myT1.count(3))\n",
    "print(myT1.count(1))"
   ]
  },
  {
   "cell_type": "markdown",
   "metadata": {},
   "source": [
    "### Membership operator to find out if the particular element is part of the tuple"
   ]
  },
  {
   "cell_type": "code",
   "execution_count": null,
   "metadata": {},
   "outputs": [],
   "source": [
    "myT2  = (1, 2, 3, 4, 5, 6,5,3,7)\n",
    "\n",
    "print(6 in myT2)\n",
    "print(10 in myT2)"
   ]
  },
  {
   "cell_type": "code",
   "execution_count": null,
   "metadata": {},
   "outputs": [],
   "source": [
    "myT2[-1]=20   # you can't add/modify the core elements of tuple as it is immutable, \n",
    "              # however if the list is part of the tuple, this can be changed.  "
   ]
  },
  {
   "cell_type": "code",
   "execution_count": 74,
   "metadata": {},
   "outputs": [
    {
     "data": {
      "text/plain": [
       "9"
      ]
     },
     "execution_count": 74,
     "metadata": {},
     "output_type": "execute_result"
    }
   ],
   "source": [
    "len(myT2)"
   ]
  },
  {
   "cell_type": "code",
   "execution_count": null,
   "metadata": {},
   "outputs": [],
   "source": [
    "### sorting of tuple elements can't be applied to mix datatype tuples."
   ]
  },
  {
   "cell_type": "code",
   "execution_count": 79,
   "metadata": {},
   "outputs": [
    {
     "name": "stdout",
     "output_type": "stream",
     "text": [
      "(1, 2, 3, 4, 'a', 5, 'gb')\n"
     ]
    },
    {
     "ename": "TypeError",
     "evalue": "'<' not supported between instances of 'str' and 'int'",
     "output_type": "error",
     "traceback": [
      "\u001b[1;31m---------------------------------------------------------------------------\u001b[0m",
      "\u001b[1;31mTypeError\u001b[0m                                 Traceback (most recent call last)",
      "\u001b[1;32m<ipython-input-79-480335be2269>\u001b[0m in \u001b[0;36m<module>\u001b[1;34m\u001b[0m\n\u001b[0;32m      2\u001b[0m \u001b[1;33m\u001b[0m\u001b[0m\n\u001b[0;32m      3\u001b[0m \u001b[0mprint\u001b[0m\u001b[1;33m(\u001b[0m\u001b[0mmyT2mix\u001b[0m\u001b[1;33m)\u001b[0m\u001b[1;33m\u001b[0m\u001b[1;33m\u001b[0m\u001b[0m\n\u001b[1;32m----> 4\u001b[1;33m \u001b[0mmyT5\u001b[0m\u001b[1;33m=\u001b[0m \u001b[0msorted\u001b[0m\u001b[1;33m(\u001b[0m\u001b[0mmyT2mix\u001b[0m\u001b[1;33m)\u001b[0m\u001b[1;33m\u001b[0m\u001b[1;33m\u001b[0m\u001b[0m\n\u001b[0m",
      "\u001b[1;31mTypeError\u001b[0m: '<' not supported between instances of 'str' and 'int'"
     ]
    }
   ],
   "source": [
    "myT2mix  = (1, 2, 3, 4,'a',5,'gb')\n",
    "\n",
    "print(myT2mix)\n",
    "myT5= sorted(myT2mix)        # this gives error as mix datatypes can't be sorted"
   ]
  },
  {
   "cell_type": "code",
   "execution_count": 78,
   "metadata": {},
   "outputs": [
    {
     "name": "stdout",
     "output_type": "stream",
     "text": [
      "original (1, 2, 3, 4, 5, 6, 3, 7)\n",
      "sorted [1, 2, 3, 3, 4, 5, 6, 7]\n"
     ]
    }
   ],
   "source": [
    "myT2  = (1, 2, 3, 4, 5, 6,3,7)\n",
    "myT3= sorted(myT2)\n",
    "\n",
    "print('original', myT2)\n",
    "print('sorted',myT3)      # THIS returns the sorted list and doesn't change the original tuple"
   ]
  },
  {
   "cell_type": "markdown",
   "metadata": {},
   "source": [
    "#### min and max , sum of the tuple"
   ]
  },
  {
   "cell_type": "code",
   "execution_count": 80,
   "metadata": {},
   "outputs": [
    {
     "name": "stdout",
     "output_type": "stream",
     "text": [
      "876\n",
      "1\n",
      "1054.9\n"
     ]
    }
   ],
   "source": [
    "mytp1 = (1, 2, 3, 4,56,78.9, 34, 876)\n",
    "\n",
    "print(max(mytp1))\n",
    "print(min(mytp1))\n",
    "print(sum(mytp1))"
   ]
  }
 ],
 "metadata": {
  "kernelspec": {
   "display_name": "Python 3",
   "language": "python",
   "name": "python3"
  },
  "language_info": {
   "codemirror_mode": {
    "name": "ipython",
    "version": 3
   },
   "file_extension": ".py",
   "mimetype": "text/x-python",
   "name": "python",
   "nbconvert_exporter": "python",
   "pygments_lexer": "ipython3",
   "version": "3.7.3"
  }
 },
 "nbformat": 4,
 "nbformat_minor": 2
}
